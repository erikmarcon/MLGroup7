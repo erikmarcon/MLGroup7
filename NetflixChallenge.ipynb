{
 "cells": [
  {
   "cell_type": "markdown",
   "metadata": {},
   "source": [
    "### TODO\n",
    "- Everything\n",
    "- Drop users that have rated very few movies -> How to decide the threshold?\n",
    "- Define the best approach to the collaborative filtering (model-based or memory-based)\n",
    "- Build the recommender system (can it be as simple as kNN?)\n",
    "\n",
    "### DONE\n",
    "- File loading and creation of the DataFrame"
   ]
  },
  {
   "cell_type": "code",
   "execution_count": 1,
   "metadata": {},
   "outputs": [],
   "source": [
    "# Imports\n",
    "import os\n",
    "import gc\n",
    "import sys\n",
    "import math\n",
    "\n",
    "# from pathlib import Path\n",
    "import pandas as pd\n",
    "import numpy as np\n",
    "from numpy.random import default_rng\n",
    "import seaborn as sns\n",
    "import matplotlib.pyplot as plt\n",
    "import matplotlib.ticker as mtick\n",
    "\n",
    "from surprise import Reader, Dataset, SVD, KNNWithMeans\n",
    "from surprise.model_selection import cross_validate, GridSearchCV\n",
    "\n",
    "\n",
    "# # Not being used yet.\n",
    "# from sklearn.decomposition import PCA\n",
    "# from sklearn.manifold import TSNE\n",
    "# from sklearn.model_selection import train_test_split, cross_val_predict, GridSearchCV, StratifiedKFold\n",
    "# from sklearn.preprocessing import LabelEncoder, StandardScaler\n",
    "# from sklearn.neighbors import KNeighborsClassifier\n",
    "# from sklearn.linear_model import LogisticRegression\n",
    "# from sklearn.tree import DecisionTreeClassifier\n",
    "# from sklearn.cluster import KMeans\n",
    "# from sklearn.metrics import classification_report, confusion_matrix\n",
    "# from sklearn.pipeline import Pipeline\n",
    "\n",
    "# from scipy.sparse import csr_matrix\n",
    "\n",
    "# from scipy.spatial import Voronoi, voronoi_plot_2d\n",
    "# from imblearn.over_sampling import SMOTE\n",
    "\n",
    "sns.set_theme(style=\"darkgrid\")"
   ]
  },
  {
   "cell_type": "code",
   "execution_count": 2,
   "metadata": {},
   "outputs": [],
   "source": [
    "# Read Movie Titles file\n",
    "def readMovieTitle(file_path):\n",
    "    data_dict = {'Movie_Id' : [], 'Release_Year' : [], 'Title' : []}\n",
    "    data_file = open(file_path, \"r\", encoding='ISO-8859-1')\n",
    "    for line in data_file:            \n",
    "        id, year, title = line.split(',', 2)\n",
    "        data_dict['Movie_Id'].append(id)\n",
    "        data_dict['Release_Year'].append(year)\n",
    "        data_dict['Title'].append(title.rstrip('\\n'))\n",
    "    data_file.close()\n",
    "            \n",
    "    return pd.DataFrame(data_dict)"
   ]
  },
  {
   "cell_type": "code",
   "execution_count": 3,
   "metadata": {},
   "outputs": [],
   "source": [
    "# The dataset is very large, so there's a flag to load only a handful of rows if necessary\n",
    "# First 1M lines takes 0.2s to load, the whole dataset takes almost 2 minutes\n",
    "cid_list = {}\n",
    "def readFile(file_path, rows = 1000000, flag = False):\n",
    "    data_dict = {'Cust_Id' : [], 'Movie_Id' : [], 'Rating' : [], 'Date' : []}\n",
    "    data_file = open(file_path, \"r\")\n",
    "    count = 0\n",
    "    for line in data_file:\n",
    "        count += 1\n",
    "        if flag and (count > rows):\n",
    "            break\n",
    "            \n",
    "        if ':' in line:\n",
    "            movieId = line[:-2] # remove the last character ':'\n",
    "            movieId = int(movieId)\n",
    "        else:\n",
    "            customerID, rating, date = line.split(',')\n",
    "            if (customerID not in cid_list):\n",
    "                cid_list[customerID] = 1\n",
    "            else:\n",
    "                cid_list[customerID] += 1\n",
    "            data_dict['Cust_Id'].append(customerID)\n",
    "            data_dict['Movie_Id'].append(movieId)\n",
    "            data_dict['Rating'].append(rating)\n",
    "            data_dict['Date'].append(date.rstrip(\"\\n\"))\n",
    "    data_file.close()\n",
    "            \n",
    "    return pd.DataFrame(data_dict)"
   ]
  },
  {
   "cell_type": "code",
   "execution_count": 4,
   "metadata": {},
   "outputs": [
    {
     "data": {
      "text/html": [
       "<div>\n",
       "<style scoped>\n",
       "    .dataframe tbody tr th:only-of-type {\n",
       "        vertical-align: middle;\n",
       "    }\n",
       "\n",
       "    .dataframe tbody tr th {\n",
       "        vertical-align: top;\n",
       "    }\n",
       "\n",
       "    .dataframe thead th {\n",
       "        text-align: right;\n",
       "    }\n",
       "</style>\n",
       "<table border=\"1\" class=\"dataframe\">\n",
       "  <thead>\n",
       "    <tr style=\"text-align: right;\">\n",
       "      <th></th>\n",
       "      <th>Movie_Id</th>\n",
       "      <th>Release_Year</th>\n",
       "      <th>Title</th>\n",
       "    </tr>\n",
       "  </thead>\n",
       "  <tbody>\n",
       "    <tr>\n",
       "      <th>0</th>\n",
       "      <td>1</td>\n",
       "      <td>2003</td>\n",
       "      <td>Dinosaur Planet</td>\n",
       "    </tr>\n",
       "    <tr>\n",
       "      <th>1</th>\n",
       "      <td>2</td>\n",
       "      <td>2004</td>\n",
       "      <td>Isle of Man TT 2004 Review</td>\n",
       "    </tr>\n",
       "    <tr>\n",
       "      <th>2</th>\n",
       "      <td>3</td>\n",
       "      <td>1997</td>\n",
       "      <td>Character</td>\n",
       "    </tr>\n",
       "    <tr>\n",
       "      <th>3</th>\n",
       "      <td>4</td>\n",
       "      <td>1994</td>\n",
       "      <td>Paula Abdul's Get Up &amp; Dance</td>\n",
       "    </tr>\n",
       "    <tr>\n",
       "      <th>4</th>\n",
       "      <td>5</td>\n",
       "      <td>2004</td>\n",
       "      <td>The Rise and Fall of ECW</td>\n",
       "    </tr>\n",
       "    <tr>\n",
       "      <th>5</th>\n",
       "      <td>6</td>\n",
       "      <td>1997</td>\n",
       "      <td>Sick</td>\n",
       "    </tr>\n",
       "    <tr>\n",
       "      <th>6</th>\n",
       "      <td>7</td>\n",
       "      <td>1992</td>\n",
       "      <td>8 Man</td>\n",
       "    </tr>\n",
       "    <tr>\n",
       "      <th>7</th>\n",
       "      <td>8</td>\n",
       "      <td>2004</td>\n",
       "      <td>What the #$*! Do We Know!?</td>\n",
       "    </tr>\n",
       "    <tr>\n",
       "      <th>8</th>\n",
       "      <td>9</td>\n",
       "      <td>1991</td>\n",
       "      <td>Class of Nuke 'Em High 2</td>\n",
       "    </tr>\n",
       "    <tr>\n",
       "      <th>9</th>\n",
       "      <td>10</td>\n",
       "      <td>2001</td>\n",
       "      <td>Fighter</td>\n",
       "    </tr>\n",
       "  </tbody>\n",
       "</table>\n",
       "</div>"
      ],
      "text/plain": [
       "   Movie_Id Release_Year                         Title\n",
       "0         1         2003               Dinosaur Planet\n",
       "1         2         2004    Isle of Man TT 2004 Review\n",
       "2         3         1997                     Character\n",
       "3         4         1994  Paula Abdul's Get Up & Dance\n",
       "4         5         2004      The Rise and Fall of ECW\n",
       "5         6         1997                          Sick\n",
       "6         7         1992                         8 Man\n",
       "7         8         2004    What the #$*! Do We Know!?\n",
       "8         9         1991      Class of Nuke 'Em High 2\n",
       "9        10         2001                       Fighter"
      ]
     },
     "execution_count": 4,
     "metadata": {},
     "output_type": "execute_result"
    }
   ],
   "source": [
    "# Load the title of the movies into a dataframe\n",
    "df_title = readMovieTitle('data/movie_titles.csv')\n",
    "df_title['Movie_Id'] = df_title['Movie_Id'].astype(int)\n",
    "df_title.head(10)\n",
    "# df_title.loc[df_title['Movie_Id'] == 1]"
   ]
  },
  {
   "cell_type": "code",
   "execution_count": 5,
   "metadata": {},
   "outputs": [],
   "source": [
    "# Loading the user data\n",
    "# User ID, Movie ID, Rating and Date\n",
    "flag_limit = False\n",
    "df1 = readFile('data/combined_data_1.txt', flag = flag_limit)\n",
    "df2 = readFile('data/combined_data_2.txt', flag = flag_limit)\n",
    "df3 = readFile('data/combined_data_3.txt', flag = flag_limit)\n",
    "df4 = readFile('data/combined_data_4.txt', flag = flag_limit)\n",
    "# Transform everything to INT, occupies less RAM.\n",
    "df1['Rating'] = df1['Rating'].astype(int)\n",
    "df2['Rating'] = df2['Rating'].astype(int)\n",
    "df3['Rating'] = df3['Rating'].astype(int)\n",
    "df4['Rating'] = df4['Rating'].astype(int)\n",
    "df1['Cust_Id'] = df1['Cust_Id'].astype(int)\n",
    "df2['Cust_Id'] = df2['Cust_Id'].astype(int)\n",
    "df3['Cust_Id'] = df3['Cust_Id'].astype(int)\n",
    "df4['Cust_Id'] = df4['Cust_Id'].astype(int)"
   ]
  },
  {
   "cell_type": "code",
   "execution_count": 6,
   "metadata": {},
   "outputs": [
    {
     "data": {
      "text/plain": [
       "0"
      ]
     },
     "execution_count": 6,
     "metadata": {},
     "output_type": "execute_result"
    }
   ],
   "source": [
    "# Creation of the DataFrame with all the data\n",
    "df = df1.copy()\n",
    "df = pd.concat([df1, df2, df3, df4])\n",
    "df.index = np.arange(0,len(df))\n",
    "df.head(10)\n",
    "# Drop everything but the essential information\n",
    "df = df.loc[:, ['Cust_Id', 'Movie_Id', 'Rating']]\n",
    "original = df\n",
    "\n",
    "# # Complete Dataframe with the movie titles\n",
    "# # Not necessary\n",
    "# df = df.merge(df_title, how='left')\n",
    "# df = df.loc[:, ['Cust_Id', 'Movie_Id', 'Title', 'Release_Year', 'Rating', 'Date']]\n",
    "# df.head(-10)\n",
    "\n",
    "# Too much data, so I'm deleting the dataframes after the merge\n",
    "# In total it uses 14gb of memory\n",
    "del df1, df2, df3, df4, # df_title\n",
    "# Explicitily calling the garbage collector to free up RAM\n",
    "gc.collect()"
   ]
  },
  {
   "cell_type": "code",
   "execution_count": 7,
   "metadata": {},
   "outputs": [
    {
     "name": "stdout",
     "output_type": "stream",
     "text": [
      "<class 'pandas.core.frame.DataFrame'>\n",
      "Int64Index: 100480507 entries, 0 to 100480506\n",
      "Data columns (total 3 columns):\n",
      " #   Column    Dtype\n",
      "---  ------    -----\n",
      " 0   Cust_Id   int64\n",
      " 1   Movie_Id  int64\n",
      " 2   Rating    int64\n",
      "dtypes: int64(3)\n",
      "memory usage: 3.0 GB\n"
     ]
    }
   ],
   "source": [
    "df.info()"
   ]
  },
  {
   "cell_type": "markdown",
   "metadata": {},
   "source": [
    "After the successful loading of the data into a single large dataframe, now it's time to understand the data and do a little bit of a clean up (delete rows with NaN values, look for duplicates, drop unnecessary columns etc.)"
   ]
  },
  {
   "cell_type": "code",
   "execution_count": 9,
   "metadata": {},
   "outputs": [
    {
     "data": {
      "text/html": [
       "<div>\n",
       "<style scoped>\n",
       "    .dataframe tbody tr th:only-of-type {\n",
       "        vertical-align: middle;\n",
       "    }\n",
       "\n",
       "    .dataframe tbody tr th {\n",
       "        vertical-align: top;\n",
       "    }\n",
       "\n",
       "    .dataframe thead th {\n",
       "        text-align: right;\n",
       "    }\n",
       "</style>\n",
       "<table border=\"1\" class=\"dataframe\">\n",
       "  <thead>\n",
       "    <tr style=\"text-align: right;\">\n",
       "      <th></th>\n",
       "      <th>Cust_Id</th>\n",
       "      <th>Movie_Id</th>\n",
       "      <th>Rating</th>\n",
       "    </tr>\n",
       "  </thead>\n",
       "  <tbody>\n",
       "    <tr>\n",
       "      <th>0</th>\n",
       "      <td>1488844</td>\n",
       "      <td>1</td>\n",
       "      <td>3</td>\n",
       "    </tr>\n",
       "    <tr>\n",
       "      <th>1</th>\n",
       "      <td>822109</td>\n",
       "      <td>1</td>\n",
       "      <td>5</td>\n",
       "    </tr>\n",
       "    <tr>\n",
       "      <th>2</th>\n",
       "      <td>885013</td>\n",
       "      <td>1</td>\n",
       "      <td>4</td>\n",
       "    </tr>\n",
       "    <tr>\n",
       "      <th>3</th>\n",
       "      <td>30878</td>\n",
       "      <td>1</td>\n",
       "      <td>4</td>\n",
       "    </tr>\n",
       "    <tr>\n",
       "      <th>4</th>\n",
       "      <td>823519</td>\n",
       "      <td>1</td>\n",
       "      <td>3</td>\n",
       "    </tr>\n",
       "    <tr>\n",
       "      <th>5</th>\n",
       "      <td>893988</td>\n",
       "      <td>1</td>\n",
       "      <td>3</td>\n",
       "    </tr>\n",
       "    <tr>\n",
       "      <th>6</th>\n",
       "      <td>124105</td>\n",
       "      <td>1</td>\n",
       "      <td>4</td>\n",
       "    </tr>\n",
       "    <tr>\n",
       "      <th>7</th>\n",
       "      <td>1248029</td>\n",
       "      <td>1</td>\n",
       "      <td>3</td>\n",
       "    </tr>\n",
       "    <tr>\n",
       "      <th>8</th>\n",
       "      <td>1842128</td>\n",
       "      <td>1</td>\n",
       "      <td>4</td>\n",
       "    </tr>\n",
       "    <tr>\n",
       "      <th>9</th>\n",
       "      <td>2238063</td>\n",
       "      <td>1</td>\n",
       "      <td>3</td>\n",
       "    </tr>\n",
       "  </tbody>\n",
       "</table>\n",
       "</div>"
      ],
      "text/plain": [
       "   Cust_Id  Movie_Id  Rating\n",
       "0  1488844         1       3\n",
       "1   822109         1       5\n",
       "2   885013         1       4\n",
       "3    30878         1       4\n",
       "4   823519         1       3\n",
       "5   893988         1       3\n",
       "6   124105         1       4\n",
       "7  1248029         1       3\n",
       "8  1842128         1       4\n",
       "9  2238063         1       3"
      ]
     },
     "execution_count": 9,
     "metadata": {},
     "output_type": "execute_result"
    }
   ],
   "source": [
    "# General format of the Dataframe\n",
    "df.head(10)"
   ]
  },
  {
   "cell_type": "code",
   "execution_count": 10,
   "metadata": {},
   "outputs": [
    {
     "data": {
      "text/plain": [
       "(100480507, 3)"
      ]
     },
     "execution_count": 10,
     "metadata": {},
     "output_type": "execute_result"
    }
   ],
   "source": [
    "df.shape"
   ]
  },
  {
   "cell_type": "code",
   "execution_count": 11,
   "metadata": {},
   "outputs": [],
   "source": [
    "# Check if there are empty rows\n",
    "# Not necessary, data is clean\n",
    "#df.isna().sum()"
   ]
  },
  {
   "cell_type": "code",
   "execution_count": 12,
   "metadata": {},
   "outputs": [],
   "source": [
    "# Check if there are duplicated values\n",
    "# Not necessary, data is clean\n",
    "# df.duplicated().sum()\n",
    "# If there were duplicates\n",
    "# df = df.loc[~df.duplicated()].reset_index(drop=True).copy()"
   ]
  },
  {
   "cell_type": "code",
   "execution_count": 13,
   "metadata": {},
   "outputs": [
    {
     "data": {
      "text/plain": [
       "Cust_Id     int64\n",
       "Movie_Id    int64\n",
       "Rating      int64\n",
       "dtype: object"
      ]
     },
     "execution_count": 13,
     "metadata": {},
     "output_type": "execute_result"
    }
   ],
   "source": [
    "# Check the type of the variables.\n",
    "# Here we identify that some are loaded as a type we don't want and thus need to transform it\n",
    "# Int occupies less memory\n",
    "df.dtypes"
   ]
  },
  {
   "cell_type": "code",
   "execution_count": 14,
   "metadata": {},
   "outputs": [],
   "source": [
    "# Changing the types -> already did during loading, not necessary\n",
    "# df['Cust_Id'] = df['Cust_Id'].astype(int)\n",
    "# df['Release_Year'] = df['Release_Year'].astype(int)\n",
    "# df['Date'] = pd.to_datetime(df['Date'])\n",
    "# gc.collect()\n",
    "# df.dtypes"
   ]
  },
  {
   "cell_type": "markdown",
   "metadata": {},
   "source": [
    "Now the dataset is clean (it already was, but nonetheless this should be part of the pipeline)\n",
    "Let's investigate the data, i.e. do Feature Understanding\n",
    "Histogram, KDE, Boxplot"
   ]
  },
  {
   "cell_type": "code",
   "execution_count": 15,
   "metadata": {},
   "outputs": [
    {
     "data": {
      "text/plain": [
       "5654.502363534046"
      ]
     },
     "execution_count": 15,
     "metadata": {},
     "output_type": "execute_result"
    }
   ],
   "source": [
    "df.groupby('Movie_Id')['Rating'].count().sort_values(ascending=True).mean()"
   ]
  },
  {
   "cell_type": "code",
   "execution_count": 16,
   "metadata": {},
   "outputs": [
    {
     "data": {
      "image/png": "[encoded data removed]",
      "text/plain": [
       "<Figure size 640x480 with 1 Axes>"
      ]
     },
     "metadata": {},
     "output_type": "display_data"
    }
   ],
   "source": [
    "mr = df.groupby('Movie_Id')['Rating'].count().sort_values(ascending=True).head(14000)\n",
    "\n",
    "ax = sns.histplot(data=mr)\n",
    "ax.bar_label(ax.containers[0])\n",
    "plt.axis('on')\n",
    "plt.xlabel('Number of Ratings')\n",
    "plt.xscale('linear')\n",
    "plt.ylabel('Number of Movies')\n",
    "plt.show()"
   ]
  },
  {
   "cell_type": "code",
   "execution_count": 17,
   "metadata": {},
   "outputs": [
    {
     "data": {
      "text/html": [
       "<div>\n",
       "<style scoped>\n",
       "    .dataframe tbody tr th:only-of-type {\n",
       "        vertical-align: middle;\n",
       "    }\n",
       "\n",
       "    .dataframe tbody tr th {\n",
       "        vertical-align: top;\n",
       "    }\n",
       "\n",
       "    .dataframe thead th {\n",
       "        text-align: right;\n",
       "    }\n",
       "</style>\n",
       "<table border=\"1\" class=\"dataframe\">\n",
       "  <thead>\n",
       "    <tr style=\"text-align: right;\">\n",
       "      <th></th>\n",
       "      <th>Movie_Id</th>\n",
       "      <th>Release_Year</th>\n",
       "      <th>Title</th>\n",
       "    </tr>\n",
       "  </thead>\n",
       "  <tbody>\n",
       "    <tr>\n",
       "      <th>5316</th>\n",
       "      <td>5317</td>\n",
       "      <td>2000</td>\n",
       "      <td>Miss Congeniality</td>\n",
       "    </tr>\n",
       "  </tbody>\n",
       "</table>\n",
       "</div>"
      ],
      "text/plain": [
       "      Movie_Id Release_Year              Title\n",
       "5316      5317         2000  Miss Congeniality"
      ]
     },
     "execution_count": 17,
     "metadata": {},
     "output_type": "execute_result"
    }
   ],
   "source": [
    "mr.tail(10)\n",
    "\n",
    "df_title.loc[(df_title['Movie_Id'] == 5317)]"
   ]
  },
  {
   "cell_type": "code",
   "execution_count": 18,
   "metadata": {},
   "outputs": [],
   "source": [
    "# Number of unique movies\n",
    "movie_count = df['Movie_Id'].nunique()\n",
    "\n",
    "# Number of unique customers\n",
    "cust_count = df['Cust_Id'].nunique()\n",
    "\n",
    "# Number of ratings\n",
    "rating_count = df['Cust_Id'].count()\n",
    "\n",
    "# How many ratings for each value (1-5)\n",
    "rating_dist = df['Rating'].value_counts().sort_index()"
   ]
  },
  {
   "cell_type": "code",
   "execution_count": 19,
   "metadata": {},
   "outputs": [
    {
     "data": {
      "image/png": "[encoded data removed]",
      "text/plain": [
       "<Figure size 640x480 with 1 Axes>"
      ]
     },
     "metadata": {},
     "output_type": "display_data"
    }
   ],
   "source": [
    "# Histogram of the frequency of ratings\n",
    "rd = [(i/sum(rating_dist)*100) for i in rating_dist]\n",
    "\n",
    "ax = sns.barplot(x = np.arange(1,len(rd)+1), y = rd)\n",
    "ax.bar_label(ax.containers[0], fmt = '%.1f%%')\n",
    "ax.yaxis.set_major_formatter(mtick.PercentFormatter())\n",
    "plt.axis('on')\n",
    "plt.xlabel('Ratings')\n",
    "plt.ylabel('Frequency')\n",
    "plt.show()\n"
   ]
  },
  {
   "cell_type": "code",
   "execution_count": 20,
   "metadata": {},
   "outputs": [
    {
     "data": {
      "image/png": "[encoded data removed]",
      "text/plain": [
       "<Figure size 640x480 with 1 Axes>"
      ]
     },
     "metadata": {},
     "output_type": "display_data"
    }
   ],
   "source": [
    "# Histogram of the frequency of reviews by users\n",
    "cust_rating_dist = df['Cust_Id'].value_counts().sort_values()\n",
    "\n",
    "crd = cust_rating_dist.value_counts().sort_index()\n",
    "\n",
    "ax = sns.barplot(x = np.arange(len(crd)), y = crd) \n",
    "plt.show()"
   ]
  },
  {
   "cell_type": "markdown",
   "metadata": {},
   "source": [
    "The data is pretty huge, after understanding it's intrincacies, we've decided to work only with the movies and users that were in the 75% quantile"
   ]
  },
  {
   "cell_type": "code",
   "execution_count": 21,
   "metadata": {},
   "outputs": [
    {
     "name": "stdout",
     "output_type": "stream",
     "text": [
      "Movie minimum times of review: 2668.0\n",
      "Customer minimum times of review: 259.0\n"
     ]
    }
   ],
   "source": [
    "f = ['count','mean']\n",
    "quantile = 0.75\n",
    "\n",
    "df_movie_summary = df.groupby('Movie_Id')['Rating'].agg(f)\n",
    "df_movie_summary.index = df_movie_summary.index.map(int)\n",
    "movie_benchmark = round(df_movie_summary['count'].quantile(quantile),0)\n",
    "drop_movie_list = df_movie_summary[df_movie_summary['count'] < movie_benchmark].index\n",
    "\n",
    "print('Movie minimum times of review: {}'.format(movie_benchmark))\n",
    "\n",
    "df_cust_summary = df.groupby('Cust_Id')['Rating'].agg(f)\n",
    "df_cust_summary.index = df_cust_summary.index.map(int)\n",
    "cust_benchmark = round(df_cust_summary['count'].quantile(quantile),0)\n",
    "drop_cust_list = df_cust_summary[df_cust_summary['count'] < cust_benchmark].index\n",
    "\n",
    "print('Customer minimum times of review: {}'.format(cust_benchmark))"
   ]
  },
  {
   "cell_type": "markdown",
   "metadata": {},
   "source": []
  },
  {
   "cell_type": "code",
   "execution_count": 22,
   "metadata": {
    "scrolled": false
   },
   "outputs": [
    {
     "data": {
      "text/html": [
       "<div>\n",
       "<style scoped>\n",
       "    .dataframe tbody tr th:only-of-type {\n",
       "        vertical-align: middle;\n",
       "    }\n",
       "\n",
       "    .dataframe tbody tr th {\n",
       "        vertical-align: top;\n",
       "    }\n",
       "\n",
       "    .dataframe thead th {\n",
       "        text-align: right;\n",
       "    }\n",
       "</style>\n",
       "<table border=\"1\" class=\"dataframe\">\n",
       "  <thead>\n",
       "    <tr style=\"text-align: right;\">\n",
       "      <th></th>\n",
       "      <th>Cust_Id</th>\n",
       "      <th>Movie_Id</th>\n",
       "      <th>Rating</th>\n",
       "    </tr>\n",
       "  </thead>\n",
       "  <tbody>\n",
       "    <tr>\n",
       "      <th>0</th>\n",
       "      <td>305344</td>\n",
       "      <td>12</td>\n",
       "      <td>4</td>\n",
       "    </tr>\n",
       "    <tr>\n",
       "      <th>1</th>\n",
       "      <td>305344</td>\n",
       "      <td>15</td>\n",
       "      <td>5</td>\n",
       "    </tr>\n",
       "    <tr>\n",
       "      <th>2</th>\n",
       "      <td>305344</td>\n",
       "      <td>31</td>\n",
       "      <td>4</td>\n",
       "    </tr>\n",
       "    <tr>\n",
       "      <th>3</th>\n",
       "      <td>305344</td>\n",
       "      <td>72</td>\n",
       "      <td>4</td>\n",
       "    </tr>\n",
       "    <tr>\n",
       "      <th>4</th>\n",
       "      <td>305344</td>\n",
       "      <td>78</td>\n",
       "      <td>4</td>\n",
       "    </tr>\n",
       "    <tr>\n",
       "      <th>...</th>\n",
       "      <td>...</td>\n",
       "      <td>...</td>\n",
       "      <td>...</td>\n",
       "    </tr>\n",
       "    <tr>\n",
       "      <th>2098</th>\n",
       "      <td>305344</td>\n",
       "      <td>17727</td>\n",
       "      <td>4</td>\n",
       "    </tr>\n",
       "    <tr>\n",
       "      <th>2099</th>\n",
       "      <td>305344</td>\n",
       "      <td>17739</td>\n",
       "      <td>5</td>\n",
       "    </tr>\n",
       "    <tr>\n",
       "      <th>2100</th>\n",
       "      <td>305344</td>\n",
       "      <td>17742</td>\n",
       "      <td>4</td>\n",
       "    </tr>\n",
       "    <tr>\n",
       "      <th>2101</th>\n",
       "      <td>305344</td>\n",
       "      <td>17747</td>\n",
       "      <td>4</td>\n",
       "    </tr>\n",
       "    <tr>\n",
       "      <th>2102</th>\n",
       "      <td>305344</td>\n",
       "      <td>17757</td>\n",
       "      <td>4</td>\n",
       "    </tr>\n",
       "  </tbody>\n",
       "</table>\n",
       "<p>2103 rows × 3 columns</p>\n",
       "</div>"
      ],
      "text/plain": [
       "      Cust_Id  Movie_Id  Rating\n",
       "0      305344        12       4\n",
       "1      305344        15       5\n",
       "2      305344        31       4\n",
       "3      305344        72       4\n",
       "4      305344        78       4\n",
       "...       ...       ...     ...\n",
       "2098   305344     17727       4\n",
       "2099   305344     17739       5\n",
       "2100   305344     17742       4\n",
       "2101   305344     17747       4\n",
       "2102   305344     17757       4\n",
       "\n",
       "[2103 rows x 3 columns]"
      ]
     },
     "execution_count": 22,
     "metadata": {},
     "output_type": "execute_result"
    }
   ],
   "source": [
    "# Checking the favorite movies of a random user (df['Cust_Id'].mode() -> users with most reviews)\n",
    "df.loc[(df['Cust_Id'] == 305344) & (df['Rating'] >= 4)].reset_index(drop=True)"
   ]
  },
  {
   "cell_type": "code",
   "execution_count": 26,
   "metadata": {
    "scrolled": false
   },
   "outputs": [
    {
     "name": "stdout",
     "output_type": "stream",
     "text": [
      "<class 'pandas.core.frame.DataFrame'>\n",
      "Int64Index: 100480507 entries, 0 to 100480506\n",
      "Data columns (total 3 columns):\n",
      " #   Column    Dtype\n",
      "---  ------    -----\n",
      " 0   Cust_Id   int64\n",
      " 1   Movie_Id  int64\n",
      " 2   Rating    int64\n",
      "dtypes: int64(3)\n",
      "memory usage: 3.0 GB\n"
     ]
    }
   ],
   "source": [
    "df.info()"
   ]
  },
  {
   "cell_type": "code",
   "execution_count": 85,
   "metadata": {},
   "outputs": [
    {
     "name": "stdout",
     "output_type": "stream",
     "text": [
      "[6384, 2447273, 548578, 2114016, 2447861, 1763128, 1566853, 2497400, 805884, 1301764, 2526342, 1324010, 1609964, 1938296, 2585815, 2466473, 2614711, 1023512, 827057, 2070435, 1934282, 1808395, 1854424, 19144, 2637332, 84772, 1424698, 1620494, 1645222, 1995649, 1531976, 2449866, 864564, 2034341, 1097317, 866101, 1886629, 863863, 1842318, 1809923, 994391, 416817, 1455330, 720257, 2588520, 1371651, 711916, 1326603]\n",
      "[[49786921, 6384, 8966, 3], [42387350, 2447273, 7513, 5], [37921929, 548578, 6739, 4], [69442109, 2114016, 12582, 3], [80996711, 2447861, 14554, 4], [55252035, 1763128, 10108, 2], [80908890, 1566853, 14550, 5], [1784475, 2497400, 331, 4], [31383451, 805884, 5732, 4], [76177474, 1301764, 13772, 5], [99901318, 2526342, 17624, 4], [70948062, 1324010, 12870, 3], [80828327, 1609964, 14545, 4], [49982956, 1938296, 9006, 5], [53328864, 2585815, 9689, 4], [96003529, 2466473, 17004, 4], [49370669, 2614711, 8881, 4], [62772707, 1023512, 11398, 3], [88614341, 827057, 15758, 3], [3194880, 2070435, 589, 1], [22875045, 1934282, 4315, 4], [31826103, 1808395, 5793, 4], [80299228, 1854424, 14480, 4], [85580666, 19144, 15182, 3], [77170217, 2637332, 14044, 4], [31634876, 84772, 5778, 4], [42323092, 1424698, 7511, 5], [73133596, 1620494, 13255, 4], [85201971, 1645222, 15124, 5], [68644845, 1995649, 12470, 3], [21200448, 1531976, 3962, 5], [20998811, 2449866, 3938, 4], [41512647, 864564, 7331, 3], [34973730, 2034341, 6268, 1], [49703405, 1097317, 8954, 4], [91302715, 866101, 16242, 5], [2702727, 1886629, 483, 3], [23748775, 863863, 4432, 3], [55625076, 1842318, 10168, 4], [91249064, 1809923, 16242, 2], [11381770, 994391, 2174, 5], [65620938, 416817, 12034, 5], [83539017, 1455330, 14928, 4], [35950948, 720257, 6386, 5], [44690754, 2588520, 7928, 5], [78232741, 1371651, 14215, 2], [95852960, 711916, 16984, 2], [37441710, 1326603, 6673, 3]]\n",
      "          Cust_Id  Movie_Id  Rating\n",
      "1384         6384         3       3\n",
      "35090        6384        18       4\n",
      "1008834      6384       235       3\n",
      "1169937      6384       269       4\n",
      "1779825      6384       331       3\n",
      "...           ...       ...     ...\n",
      "85159377  1326603     15124       5\n",
      "92129915  1326603     16361       4\n",
      "92278072  1326603     16377       5\n",
      "92383155  1326603     16380       3\n",
      "95661472  1326603     16954       4\n",
      "\n",
      "[12294 rows x 3 columns]\n",
      "           Cust_Id  Movie_Id  Rating\n",
      "99         2630337         1       5\n",
      "324        1430587         1       4\n",
      "394        1133763         1       3\n",
      "415         121073         1       5\n",
      "493        1876297         1       5\n",
      "...            ...       ...     ...\n",
      "100480164  2412613     17770       4\n",
      "100480282  1379509     17770       1\n",
      "100480308   611193     17770       5\n",
      "100480311   310863     17770       3\n",
      "100480496  2641559     17770       3\n",
      "\n",
      "[1033677 rows x 3 columns]\n",
      "          Cust_Id  Movie_Id  Rating\n",
      "99        2630337         1       5\n",
      "324       1430587         1       4\n",
      "394       1133763         1       3\n",
      "415        121073         1       5\n",
      "493       1876297         1       5\n",
      "...           ...       ...     ...\n",
      "85159377  1326603     15124       5\n",
      "92129915  1326603     16361       4\n",
      "92278072  1326603     16377       5\n",
      "92383155  1326603     16380       3\n",
      "95661472  1326603     16954       4\n",
      "\n",
      "[1045971 rows x 3 columns]\n"
     ]
    }
   ],
   "source": [
    "df = original.copy()\n",
    "\n",
    "# df.info()\n",
    "\n",
    "# Reducing the dataset so it works with reasonable RAM consumption\n",
    "drop_percentage = 0.99\n",
    "train_percentage = 0.99\n",
    "cid_as_int = list(map(lambda x: int(x), cid_list.keys()))\n",
    "cid_as_str = list(map(lambda x: x, cid_list.keys()))\n",
    "cid_df = pd.DataFrame(data={\"Cust_Id\": cid_as_int})\n",
    "\n",
    "# print(cid_df)\n",
    "arr_cid_to_drop = default_rng().choice(cid_df.index, size=(math.floor(len(cid_df)*drop_percentage)), replace=False)\n",
    "cid_df.drop(index=arr_cid_to_drop, inplace=True)\n",
    "mask1 = df[\"Cust_Id\"].isin(cid_df[\"Cust_Id\"].tolist())\n",
    "df = df[df[\"Cust_Id\"].isin(cid_df[\"Cust_Id\"].tolist())]\n",
    "# df.info()\n",
    "\n",
    "arr_cid_train = default_rng().choice(cid_df.index, size=(math.floor(len(cid_df)*(1 - train_percentage))), replace=False)\n",
    "cid_train_df = cid_df.drop(index=arr_cid_train, inplace=False)\n",
    "mask = df[\"Cust_Id\"].isin(cid_train_df[\"Cust_Id\"].tolist())\n",
    "df_train = df[df[\"Cust_Id\"].isin(cid_train_df[\"Cust_Id\"].tolist())]\n",
    "df_test = df[~df[\"Cust_Id\"].isin(cid_train_df[\"Cust_Id\"].tolist())]\n",
    "# for everyone in df_test:\n",
    "#     remove 1 rated movie\n",
    "cids_to_remove_rating = list(dict.fromkeys(list(df_test[\"Cust_Id\"])))\n",
    "print(cids_to_remove_rating)\n",
    "df_users = []\n",
    "tuples = []\n",
    "# for i in range(len(cids_to_remove_rating)):\n",
    "#     cid = cids_to_remove_rating[i]\n",
    "#     df_users[cid] = df[df[\"Cust_Id\"] == cid].copy()\n",
    "#     a = df_users[cid].sample()\n",
    "#     print(a)\n",
    "#     print(df_users[cid])\n",
    "#     print(a.index[0])\n",
    "#     tuples.append([cid, a.at[a.index[0],\"Movie_Id\"], a.at[a.index[0],\"Rating\"]])\n",
    "#     print(tuples)\n",
    "#     df_users[cid].loc[a.index[0],\"Rating\"] = 0\n",
    "\n",
    "for i in range(len(cids_to_remove_rating)):\n",
    "    cid = cids_to_remove_rating[i]\n",
    "    df_users.append(df[df[\"Cust_Id\"] == cid].copy())\n",
    "    a = df_users[i].sample()\n",
    "    tuples.append([a.index[0], cid, a.at[a.index[0],\"Movie_Id\"], a.at[a.index[0],\"Rating\"]])\n",
    "    df_users[i].drop(index=[a.index[0]], inplace=True)\n",
    "\n",
    "print(tuples)\n",
    "df_reconstructed = pd.concat(df_users)\n",
    "print(df_reconstructed)\n",
    "print(df_train)\n",
    "df_final = pd.concat([df_train, df_reconstructed])\n",
    "print(df_final)\n",
    "#     df_test\n",
    "# print(df_test)\n",
    "# df_test[\"Cust_Id\"]\n",
    "# print(df_test)"
   ]
  },
  {
   "cell_type": "code",
   "execution_count": 86,
   "metadata": {},
   "outputs": [
    {
     "data": {
      "text/plain": [
       "<surprise.prediction_algorithms.matrix_factorization.SVD at 0x7f8ef4625190>"
      ]
     },
     "execution_count": 86,
     "metadata": {},
     "output_type": "execute_result"
    }
   ],
   "source": [
    "reader = Reader(rating_scale=(1, 5))\n",
    "data = Dataset.load_from_df(df_train[['Cust_Id', 'Movie_Id', 'Rating']], reader)\n",
    "# dataTest = Dataset.load_from_df(df_test[['Cust_Id', 'Movie_Id', 'Rating']], reader)\n",
    "\n",
    "trainingSet = data.build_full_trainset()\n",
    "# testSet = dataTest.build_full_trainset()\n",
    "svd = SVD()\n",
    "svd.fit(trainingSet)\n",
    "# svd.fit(trainingSet).test(testSet)"
   ]
  },
  {
   "cell_type": "code",
   "execution_count": 98,
   "metadata": {},
   "outputs": [
    {
     "name": "stdout",
     "output_type": "stream",
     "text": [
      "Customer 6384, Film 8966. Real evaluation: 3. Predicted: 3.429326876433188\n",
      "Customer 2447273, Film 7513. Real evaluation: 5. Predicted: 3.9400652692339757\n",
      "Customer 548578, Film 6739. Real evaluation: 4. Predicted: 4.256944001441905\n",
      "Customer 2114016, Film 12582. Real evaluation: 3. Predicted: 3.9575247269318194\n",
      "Customer 2447861, Film 14554. Real evaluation: 4. Predicted: 4.031327758134437\n",
      "Customer 1763128, Film 10108. Real evaluation: 2. Predicted: 3.0996728470219415\n",
      "Customer 1566853, Film 14550. Real evaluation: 5. Predicted: 4.628964605011586\n",
      "Customer 2497400, Film 331. Real evaluation: 4. Predicted: 3.6199818885187454\n",
      "Customer 805884, Film 5732. Real evaluation: 4. Predicted: 4.226084965512796\n",
      "Customer 1301764, Film 13772. Real evaluation: 5. Predicted: 3.2562706178588687\n",
      "Customer 2526342, Film 17624. Real evaluation: 4. Predicted: 3.214293745393608\n",
      "Customer 1324010, Film 12870. Real evaluation: 3. Predicted: 4.432426910981055\n",
      "Customer 1609964, Film 14545. Real evaluation: 4. Predicted: 3.5193259026870085\n",
      "Customer 1938296, Film 9006. Real evaluation: 5. Predicted: 3.5989236376415996\n",
      "Customer 2585815, Film 9689. Real evaluation: 4. Predicted: 4.0386360308454705\n",
      "Customer 2466473, Film 17004. Real evaluation: 4. Predicted: 3.7110593475236198\n",
      "Customer 2614711, Film 8881. Real evaluation: 4. Predicted: 3.4887713018739333\n",
      "Customer 1023512, Film 11398. Real evaluation: 3. Predicted: 3.898485040696245\n",
      "Customer 827057, Film 15758. Real evaluation: 3. Predicted: 4.088174670096956\n",
      "Customer 2070435, Film 589. Real evaluation: 1. Predicted: 3.354077966612017\n",
      "Customer 1934282, Film 4315. Real evaluation: 4. Predicted: 3.637484925703812\n",
      "Customer 1808395, Film 5793. Real evaluation: 4. Predicted: 3.530465670041673\n",
      "Customer 1854424, Film 14480. Real evaluation: 4. Predicted: 3.507302088474666\n",
      "Customer 19144, Film 15182. Real evaluation: 3. Predicted: 3.221191662620597\n",
      "Customer 2637332, Film 14044. Real evaluation: 4. Predicted: 3.768130173768038\n",
      "Customer 84772, Film 5778. Real evaluation: 4. Predicted: 3.7904601859490272\n",
      "Customer 1424698, Film 7511. Real evaluation: 5. Predicted: 3.634913967212306\n",
      "Customer 1620494, Film 13255. Real evaluation: 4. Predicted: 4.128949608138018\n",
      "Customer 1645222, Film 15124. Real evaluation: 5. Predicted: 3.7842426356830834\n",
      "Customer 1995649, Film 12470. Real evaluation: 3. Predicted: 3.3214699666324328\n",
      "Customer 1531976, Film 3962. Real evaluation: 5. Predicted: 4.386099695812683\n",
      "Customer 2449866, Film 3938. Real evaluation: 4. Predicted: 4.0528251288781\n",
      "Customer 864564, Film 7331. Real evaluation: 3. Predicted: 3.3433992880167738\n",
      "Customer 2034341, Film 6268. Real evaluation: 1. Predicted: 3.0350265737400064\n",
      "Customer 1097317, Film 8954. Real evaluation: 4. Predicted: 3.84713538714892\n",
      "Customer 866101, Film 16242. Real evaluation: 5. Predicted: 3.46693468756726\n",
      "Customer 1886629, Film 483. Real evaluation: 3. Predicted: 3.453610845515722\n",
      "Customer 863863, Film 4432. Real evaluation: 3. Predicted: 3.8897414627239115\n",
      "Customer 1842318, Film 10168. Real evaluation: 4. Predicted: 3.0269442960961284\n",
      "Customer 1809923, Film 16242. Real evaluation: 2. Predicted: 3.46693468756726\n",
      "Customer 994391, Film 2174. Real evaluation: 5. Predicted: 3.699967414334658\n",
      "Customer 416817, Film 12034. Real evaluation: 5. Predicted: 4.044271845067086\n",
      "Customer 1455330, Film 14928. Real evaluation: 4. Predicted: 4.0560147534196815\n",
      "Customer 720257, Film 6386. Real evaluation: 5. Predicted: 3.197653252895187\n",
      "Customer 2588520, Film 7928. Real evaluation: 5. Predicted: 4.001876728277343\n",
      "Customer 1371651, Film 14215. Real evaluation: 2. Predicted: 2.953825863874564\n",
      "Customer 711916, Film 16984. Real evaluation: 2. Predicted: 3.0216862048456514\n",
      "Customer 1326603, Film 6673. Real evaluation: 3. Predicted: 2.968206813820971\n",
      "Success rate: 0.4791666666666667\n"
     ]
    }
   ],
   "source": [
    "successTimes = 0\n",
    "\n",
    "for i in range(len(tuples)):\n",
    "    index = tuples[i][0]\n",
    "    cid = tuples[i][1]\n",
    "    movId = tuples[i][2]\n",
    "    rating = tuples[i][3]\n",
    "    est = svd.predict(cid, movId).est\n",
    "    print(f\"Customer {cid}, Film {movId}. Real evaluation: {rating}. Predicted: {est}\")\n",
    "    # floor + 0.5 = closest integer\n",
    "    if math.floor(est + 0.5) == rating:\n",
    "        successTimes = successTimes + 1\n",
    "#     print(svd.predict(cid, movId).est)\n",
    "\n",
    "print(f\"Success rate: {successTimes / len(tuples)}\")"
   ]
  },
  {
   "cell_type": "code",
   "execution_count": null,
   "metadata": {},
   "outputs": [],
   "source": [
    "def benchmark(model, user):\n",
    "    for "
   ]
  },
  {
   "cell_type": "code",
   "execution_count": 32,
   "metadata": {},
   "outputs": [],
   "source": [
    "# Reducing the dataset so it works with reasonable RAM consumption\n",
    "# Naive approach, dropping individual rating instead of customers\n",
    "\n",
    "# trainingSet = {}\n",
    "\n",
    "# drop_percentage = 0.90\n",
    "# train_percentage = 0.8"
   ]
  },
  {
   "cell_type": "code",
   "execution_count": 47,
   "metadata": {},
   "outputs": [
    {
     "data": {
      "text/plain": [
       "301441521"
      ]
     },
     "execution_count": 47,
     "metadata": {},
     "output_type": "execute_result"
    }
   ],
   "source": [
    "# len(df.index)"
   ]
  },
  {
   "cell_type": "code",
   "execution_count": 46,
   "metadata": {},
   "outputs": [
    {
     "name": "stdout",
     "output_type": "stream",
     "text": [
      "90432 100481\n",
      "[ 2828130 55532628 97471973 ... 12283498 20419618 84291747] <class 'numpy.ndarray'>\n"
     ]
    }
   ],
   "source": [
    "# size = math.floor(len(df.index)*(drop_percentage))\n",
    "# print(size, len(df.index))\n",
    "# arr_indices_top_drop = default_rng().choice(df.index, size=size, replace=False)\n",
    "# print(arr_indices_top_drop, type(arr_indices_top_drop))\n",
    "# df.drop(index=arr_indices_top_drop, inplace=True)"
   ]
  },
  {
   "cell_type": "code",
   "execution_count": 49,
   "metadata": {},
   "outputs": [],
   "source": [
    "# Creating the dataset inside Surprise\n",
    "# Surprise accepts by default only this 3 parameters \\/\n",
    "reader = Reader(rating_scale=(1, 5))\n",
    "data = Dataset.load_from_df(df[['Cust_Id', 'Movie_Id', 'Rating']], reader)\n",
    "\n",
    "trainingSet = data.build_full_trainset()"
   ]
  },
  {
   "cell_type": "code",
   "execution_count": 50,
   "metadata": {},
   "outputs": [
    {
     "name": "stdout",
     "output_type": "stream",
     "text": [
      "       Movie_Id                                  Title  Estimate_Score\n",
      "5317       5318                              Tommy Boy        4.969855\n",
      "7638       7639      Star Wars Trilogy: Bonus Material        4.509225\n",
      "5367       5368               Dawson's Creek: Season 2        4.500125\n",
      "3669       3670                             Encino Man        4.426419\n",
      "312         313                         Pay It Forward        4.344556\n",
      "16991     16992                                   Emma        4.266193\n",
      "5444       5445                     Farscape: Season 1        4.259657\n",
      "1201       1202            National Lampoon's Vacation        4.245958\n",
      "4423       4424          Elton John: Live in Barcelona        4.244472\n",
      "10087     10088                     Clerks: Uncensored        4.235431\n",
      "17750     17751                   Highlander: Season 2        4.222356\n",
      "2208       2209                         On Golden Pond        4.221021\n",
      "16721     16722  The Godfather Trilogy: Bonus Material        4.213385\n",
      "11226     11227                              True Grit        4.205766\n",
      "11004     11005                           Bed of Roses        4.204265\n",
      "14090     14091                          Lorenzo's Oil        4.167701\n",
      "14573     14574                        You've Got Mail        4.158840\n",
      "5811       5812                           Pure Country        4.154490\n",
      "13005     13006                         Soap: Season 3        4.146787\n",
      "17691     17692                             Scooby-Doo        4.131079\n"
     ]
    }
   ],
   "source": [
    "# Using SVD for recomendation\n",
    "# Copied this online -> don't fully understand.\n",
    "svd = SVD()\n",
    "# user_305344 = df_title.copy()\n",
    "# user_305344 = user_305344.reset_index()\n",
    "\n",
    "svd.fit(trainingSet)"
   ]
  },
  {
   "cell_type": "code",
   "execution_count": 53,
   "metadata": {},
   "outputs": [
    {
     "name": "stdout",
     "output_type": "stream",
     "text": [
      "       Movie_Id                                  Title  Estimate_Score\n",
      "5317       5318                              Tommy Boy        4.969855\n",
      "7638       7639      Star Wars Trilogy: Bonus Material        4.509225\n",
      "5367       5368               Dawson's Creek: Season 2        4.500125\n",
      "3669       3670                             Encino Man        4.426419\n",
      "312         313                         Pay It Forward        4.344556\n",
      "16991     16992                                   Emma        4.266193\n",
      "5444       5445                     Farscape: Season 1        4.259657\n",
      "1201       1202            National Lampoon's Vacation        4.245958\n",
      "4423       4424          Elton John: Live in Barcelona        4.244472\n",
      "10087     10088                     Clerks: Uncensored        4.235431\n",
      "17750     17751                   Highlander: Season 2        4.222356\n",
      "2208       2209                         On Golden Pond        4.221021\n",
      "16721     16722  The Godfather Trilogy: Bonus Material        4.213385\n",
      "11226     11227                              True Grit        4.205766\n",
      "11004     11005                           Bed of Roses        4.204265\n",
      "14090     14091                          Lorenzo's Oil        4.167701\n",
      "14573     14574                        You've Got Mail        4.158840\n",
      "5811       5812                           Pure Country        4.154490\n",
      "13005     13006                         Soap: Season 3        4.146787\n",
      "17691     17692                             Scooby-Doo        4.131079\n"
     ]
    }
   ],
   "source": [
    "idx = 305344\n",
    "user_305344 = df_title.copy()\n",
    "user_305344 = user_305344.reset_index()\n",
    "user_305344['Estimate_Score'] = user_305344['Movie_Id'].apply(lambda x: svd.predict(305344, x).est)\n",
    "\n",
    "# user_305344 = user_305344.drop('Movie_Id', axis = 1)\n",
    "\n",
    "user_305344_data = user_305344.sort_values('Estimate_Score', ascending=False)\n",
    "print(user_305344_data[['Movie_Id', 'Title', 'Estimate_Score']].head(20))"
   ]
  },
  {
   "cell_type": "code",
   "execution_count": 54,
   "metadata": {},
   "outputs": [
    {
     "data": {
      "text/html": [
       "<div>\n",
       "<style scoped>\n",
       "    .dataframe tbody tr th:only-of-type {\n",
       "        vertical-align: middle;\n",
       "    }\n",
       "\n",
       "    .dataframe tbody tr th {\n",
       "        vertical-align: top;\n",
       "    }\n",
       "\n",
       "    .dataframe thead th {\n",
       "        text-align: right;\n",
       "    }\n",
       "</style>\n",
       "<table border=\"1\" class=\"dataframe\">\n",
       "  <thead>\n",
       "    <tr style=\"text-align: right;\">\n",
       "      <th></th>\n",
       "      <th>index</th>\n",
       "      <th>Movie_Id</th>\n",
       "      <th>Release_Year</th>\n",
       "      <th>Title</th>\n",
       "      <th>Estimate_Score</th>\n",
       "    </tr>\n",
       "  </thead>\n",
       "  <tbody>\n",
       "    <tr>\n",
       "      <th>5317</th>\n",
       "      <td>5317</td>\n",
       "      <td>5318</td>\n",
       "      <td>1995</td>\n",
       "      <td>Tommy Boy</td>\n",
       "      <td>4.969855</td>\n",
       "    </tr>\n",
       "    <tr>\n",
       "      <th>7638</th>\n",
       "      <td>7638</td>\n",
       "      <td>7639</td>\n",
       "      <td>2004</td>\n",
       "      <td>Star Wars Trilogy: Bonus Material</td>\n",
       "      <td>4.509225</td>\n",
       "    </tr>\n",
       "    <tr>\n",
       "      <th>5367</th>\n",
       "      <td>5367</td>\n",
       "      <td>5368</td>\n",
       "      <td>1998</td>\n",
       "      <td>Dawson's Creek: Season 2</td>\n",
       "      <td>4.500125</td>\n",
       "    </tr>\n",
       "    <tr>\n",
       "      <th>3669</th>\n",
       "      <td>3669</td>\n",
       "      <td>3670</td>\n",
       "      <td>1992</td>\n",
       "      <td>Encino Man</td>\n",
       "      <td>4.426419</td>\n",
       "    </tr>\n",
       "    <tr>\n",
       "      <th>312</th>\n",
       "      <td>312</td>\n",
       "      <td>313</td>\n",
       "      <td>2000</td>\n",
       "      <td>Pay It Forward</td>\n",
       "      <td>4.344556</td>\n",
       "    </tr>\n",
       "    <tr>\n",
       "      <th>...</th>\n",
       "      <td>...</td>\n",
       "      <td>...</td>\n",
       "      <td>...</td>\n",
       "      <td>...</td>\n",
       "      <td>...</td>\n",
       "    </tr>\n",
       "    <tr>\n",
       "      <th>12189</th>\n",
       "      <td>12189</td>\n",
       "      <td>12190</td>\n",
       "      <td>1955</td>\n",
       "      <td>Lola Montes</td>\n",
       "      <td>1.000000</td>\n",
       "    </tr>\n",
       "    <tr>\n",
       "      <th>1928</th>\n",
       "      <td>1928</td>\n",
       "      <td>1929</td>\n",
       "      <td>1978</td>\n",
       "      <td>Go Tell the Spartans</td>\n",
       "      <td>1.000000</td>\n",
       "    </tr>\n",
       "    <tr>\n",
       "      <th>12180</th>\n",
       "      <td>12180</td>\n",
       "      <td>12181</td>\n",
       "      <td>1995</td>\n",
       "      <td>In the Mouth of Madness</td>\n",
       "      <td>1.000000</td>\n",
       "    </tr>\n",
       "    <tr>\n",
       "      <th>974</th>\n",
       "      <td>974</td>\n",
       "      <td>975</td>\n",
       "      <td>1997</td>\n",
       "      <td>Convict 762</td>\n",
       "      <td>1.000000</td>\n",
       "    </tr>\n",
       "    <tr>\n",
       "      <th>7285</th>\n",
       "      <td>7285</td>\n",
       "      <td>7286</td>\n",
       "      <td>1975</td>\n",
       "      <td>Fox and His Friends</td>\n",
       "      <td>1.000000</td>\n",
       "    </tr>\n",
       "  </tbody>\n",
       "</table>\n",
       "<p>17770 rows × 5 columns</p>\n",
       "</div>"
      ],
      "text/plain": [
       "       index  Movie_Id Release_Year                              Title  \\\n",
       "5317    5317      5318         1995                          Tommy Boy   \n",
       "7638    7638      7639         2004  Star Wars Trilogy: Bonus Material   \n",
       "5367    5367      5368         1998           Dawson's Creek: Season 2   \n",
       "3669    3669      3670         1992                         Encino Man   \n",
       "312      312       313         2000                     Pay It Forward   \n",
       "...      ...       ...          ...                                ...   \n",
       "12189  12189     12190         1955                        Lola Montes   \n",
       "1928    1928      1929         1978               Go Tell the Spartans   \n",
       "12180  12180     12181         1995            In the Mouth of Madness   \n",
       "974      974       975         1997                        Convict 762   \n",
       "7285    7285      7286         1975                Fox and His Friends   \n",
       "\n",
       "       Estimate_Score  \n",
       "5317         4.969855  \n",
       "7638         4.509225  \n",
       "5367         4.500125  \n",
       "3669         4.426419  \n",
       "312          4.344556  \n",
       "...               ...  \n",
       "12189        1.000000  \n",
       "1928         1.000000  \n",
       "12180        1.000000  \n",
       "974          1.000000  \n",
       "7285         1.000000  \n",
       "\n",
       "[17770 rows x 5 columns]"
      ]
     },
     "execution_count": 54,
     "metadata": {},
     "output_type": "execute_result"
    }
   ],
   "source": [
    "user_305344"
   ]
  },
  {
   "cell_type": "code",
   "execution_count": null,
   "metadata": {},
   "outputs": [],
   "source": [
    "# reader = Reader(rating_scale=(1, 5))\n",
    "# svd = SVD()\n",
    "\n",
    "# data = Dataset.load_from_df(df[['Cust_Id', 'Movie_Id', 'Rating']][:], reader)\n",
    "# #data.split(n_folds=3)\n",
    "\n",
    "# cross_validate(svd, data, measures=['RMSE', 'MAE'])"
   ]
  },
  {
   "cell_type": "code",
   "execution_count": null,
   "metadata": {},
   "outputs": [],
   "source": [
    "# # Grid Search to find the best parameters for SVD\n",
    "# param_grid = {\n",
    "#     \"n_epochs\": [5, 10],\n",
    "#     \"lr_all\": [0.002, 0.005],\n",
    "#     \"reg_all\": [0.4, 0.6]\n",
    "# }\n",
    "# gs = GridSearchCV(SVD, param_grid, measures=[\"rmse\", \"mae\"], cv=3)\n",
    "\n",
    "# gs.fit(data)\n",
    "\n",
    "# print(gs.best_score[\"rmse\"])\n",
    "# print(gs.best_params[\"rmse\"])"
   ]
  },
  {
   "cell_type": "code",
   "execution_count": null,
   "metadata": {},
   "outputs": [],
   "source": [
    "# # Appplying Best Parameters to predict the score of the same movie and user predicted by kNN\n",
    "# algo = gs.best_estimator[\"rmse\"]\n",
    "# algo.fit(data.build_full_trainset())\n",
    "\n",
    "# prediction = algo.predict(305344, 9235)\n",
    "# print(prediction.est)"
   ]
  }
 ],
 "metadata": {
  "kernelspec": {
   "display_name": "Python 3 (ipykernel)",
   "language": "python",
   "name": "python3"
  },
  "language_info": {
   "codemirror_mode": {
    "name": "ipython",
    "version": 3
   },
   "file_extension": ".py",
   "mimetype": "text/x-python",
   "name": "python",
   "nbconvert_exporter": "python",
   "pygments_lexer": "ipython3",
   "version": "3.8.10"
  },
  "vscode": {
   "interpreter": {
    "hash": "a25df13df3a09e29cbdae6ff7053faf9527e3ea6ab1de3b1c9c24b3626196969"
   }
  }
 },
 "nbformat": 4,
 "nbformat_minor": 2
}
