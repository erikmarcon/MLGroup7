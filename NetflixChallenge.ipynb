{
 "cells": [
  {
   "cell_type": "markdown",
   "metadata": {},
   "source": [
    "### TODO\n",
    "- Everything\n",
    "- Drop users that have rated very few movies -> How to decide the threshold?\n",
    "- Define the best approach to the collaborative filtering (model-based or memory-based)\n",
    "- Build the recommender system (can it be as simple as kNN?)\n",
    "\n",
    "### DONE\n",
    "- File loading and creation of the DataFrame"
   ]
  },
  {
   "cell_type": "code",
   "execution_count": 1,
   "metadata": {},
   "outputs": [],
   "source": [
    "# Imports\n",
    "import os\n",
    "import gc\n",
    "import sys\n",
    "import math\n",
    "\n",
    "# from pathlib import Path\n",
    "import pandas as pd\n",
    "import numpy as np\n",
    "from numpy.random import default_rng\n",
    "import seaborn as sns\n",
    "import matplotlib.pyplot as plt\n",
    "import matplotlib.ticker as mtick\n",
    "\n",
    "from surprise import Reader, Dataset, SVD, KNNWithMeans, KNNBasic\n",
    "from surprise.model_selection import cross_validate, GridSearchCV\n",
    "\n",
    "\n",
    "# # Not being used yet.\n",
    "# from sklearn.decomposition import PCA\n",
    "# from sklearn.manifold import TSNE\n",
    "# from sklearn.model_selection import train_test_split, cross_val_predict, GridSearchCV, StratifiedKFold\n",
    "# from sklearn.preprocessing import LabelEncoder, StandardScaler\n",
    "# from sklearn.neighbors import KNeighborsClassifier\n",
    "# from sklearn.linear_model import LogisticRegression\n",
    "# from sklearn.tree import DecisionTreeClassifier\n",
    "# from sklearn.cluster import KMeans\n",
    "# from sklearn.metrics import classification_report, confusion_matrix\n",
    "# from sklearn.pipeline import Pipeline\n",
    "\n",
    "# from scipy.sparse import csr_matrix\n",
    "\n",
    "# from scipy.spatial import Voronoi, voronoi_plot_2d\n",
    "# from imblearn.over_sampling import SMOTE\n",
    "\n",
    "sns.set_theme(style=\"darkgrid\")"
   ]
  },
  {
   "cell_type": "code",
   "execution_count": 2,
   "metadata": {},
   "outputs": [],
   "source": [
    "# Read Movie Titles file\n",
    "def readMovieTitle(file_path):\n",
    "    data_dict = {'Movie_Id' : [], 'Release_Year' : [], 'Title' : []}\n",
    "    data_file = open(file_path, \"r\", encoding='ISO-8859-1')\n",
    "    for line in data_file:            \n",
    "        id, year, title = line.split(',', 2)\n",
    "        data_dict['Movie_Id'].append(id)\n",
    "        data_dict['Release_Year'].append(year)\n",
    "        data_dict['Title'].append(title.rstrip('\\n'))\n",
    "    data_file.close()\n",
    "            \n",
    "    return pd.DataFrame(data_dict)"
   ]
  },
  {
   "cell_type": "code",
   "execution_count": 3,
   "metadata": {},
   "outputs": [],
   "source": [
    "# The dataset is very large, so there's a flag to load only a handful of rows if necessary\n",
    "# First 1M lines takes 0.2s to load, the whole dataset takes almost 2 minutes\n",
    "cid_list = {}\n",
    "def readFile(file_path, rows = 1000000, flag = False):\n",
    "    data_dict = {'Cust_Id' : [], 'Movie_Id' : [], 'Rating' : [], 'Date' : []}\n",
    "    data_file = open(file_path, \"r\")\n",
    "    count = 0\n",
    "    for line in data_file:\n",
    "        count += 1\n",
    "        if flag and (count > rows):\n",
    "            break\n",
    "            \n",
    "        if ':' in line:\n",
    "            movieId = line[:-2] # remove the last character ':'\n",
    "            movieId = int(movieId)\n",
    "        else:\n",
    "            customerID, rating, date = line.split(',')\n",
    "            if (customerID not in cid_list):\n",
    "                cid_list[customerID] = 1\n",
    "            else:\n",
    "                cid_list[customerID] += 1\n",
    "            data_dict['Cust_Id'].append(customerID)\n",
    "            data_dict['Movie_Id'].append(movieId)\n",
    "            data_dict['Rating'].append(rating)\n",
    "            data_dict['Date'].append(date.rstrip(\"\\n\"))\n",
    "    data_file.close()\n",
    "            \n",
    "    return pd.DataFrame(data_dict)"
   ]
  },
  {
   "cell_type": "code",
   "execution_count": 4,
   "metadata": {},
   "outputs": [
    {
     "data": {
      "text/html": [
       "<div>\n",
       "<style scoped>\n",
       "    .dataframe tbody tr th:only-of-type {\n",
       "        vertical-align: middle;\n",
       "    }\n",
       "\n",
       "    .dataframe tbody tr th {\n",
       "        vertical-align: top;\n",
       "    }\n",
       "\n",
       "    .dataframe thead th {\n",
       "        text-align: right;\n",
       "    }\n",
       "</style>\n",
       "<table border=\"1\" class=\"dataframe\">\n",
       "  <thead>\n",
       "    <tr style=\"text-align: right;\">\n",
       "      <th></th>\n",
       "      <th>Movie_Id</th>\n",
       "      <th>Release_Year</th>\n",
       "      <th>Title</th>\n",
       "    </tr>\n",
       "  </thead>\n",
       "  <tbody>\n",
       "    <tr>\n",
       "      <th>0</th>\n",
       "      <td>1</td>\n",
       "      <td>2003</td>\n",
       "      <td>Dinosaur Planet</td>\n",
       "    </tr>\n",
       "    <tr>\n",
       "      <th>1</th>\n",
       "      <td>2</td>\n",
       "      <td>2004</td>\n",
       "      <td>Isle of Man TT 2004 Review</td>\n",
       "    </tr>\n",
       "    <tr>\n",
       "      <th>2</th>\n",
       "      <td>3</td>\n",
       "      <td>1997</td>\n",
       "      <td>Character</td>\n",
       "    </tr>\n",
       "    <tr>\n",
       "      <th>3</th>\n",
       "      <td>4</td>\n",
       "      <td>1994</td>\n",
       "      <td>Paula Abdul's Get Up &amp; Dance</td>\n",
       "    </tr>\n",
       "    <tr>\n",
       "      <th>4</th>\n",
       "      <td>5</td>\n",
       "      <td>2004</td>\n",
       "      <td>The Rise and Fall of ECW</td>\n",
       "    </tr>\n",
       "    <tr>\n",
       "      <th>5</th>\n",
       "      <td>6</td>\n",
       "      <td>1997</td>\n",
       "      <td>Sick</td>\n",
       "    </tr>\n",
       "    <tr>\n",
       "      <th>6</th>\n",
       "      <td>7</td>\n",
       "      <td>1992</td>\n",
       "      <td>8 Man</td>\n",
       "    </tr>\n",
       "    <tr>\n",
       "      <th>7</th>\n",
       "      <td>8</td>\n",
       "      <td>2004</td>\n",
       "      <td>What the #$*! Do We Know!?</td>\n",
       "    </tr>\n",
       "    <tr>\n",
       "      <th>8</th>\n",
       "      <td>9</td>\n",
       "      <td>1991</td>\n",
       "      <td>Class of Nuke 'Em High 2</td>\n",
       "    </tr>\n",
       "    <tr>\n",
       "      <th>9</th>\n",
       "      <td>10</td>\n",
       "      <td>2001</td>\n",
       "      <td>Fighter</td>\n",
       "    </tr>\n",
       "  </tbody>\n",
       "</table>\n",
       "</div>"
      ],
      "text/plain": [
       "   Movie_Id Release_Year                         Title\n",
       "0         1         2003               Dinosaur Planet\n",
       "1         2         2004    Isle of Man TT 2004 Review\n",
       "2         3         1997                     Character\n",
       "3         4         1994  Paula Abdul's Get Up & Dance\n",
       "4         5         2004      The Rise and Fall of ECW\n",
       "5         6         1997                          Sick\n",
       "6         7         1992                         8 Man\n",
       "7         8         2004    What the #$*! Do We Know!?\n",
       "8         9         1991      Class of Nuke 'Em High 2\n",
       "9        10         2001                       Fighter"
      ]
     },
     "execution_count": 4,
     "metadata": {},
     "output_type": "execute_result"
    }
   ],
   "source": [
    "# Load the title of the movies into a dataframe\n",
    "df_title = readMovieTitle('data/movie_titles.csv')\n",
    "df_title['Movie_Id'] = df_title['Movie_Id'].astype(int)\n",
    "df_title.head(10)\n",
    "# df_title.loc[df_title['Movie_Id'] == 1]"
   ]
  },
  {
   "cell_type": "code",
   "execution_count": 5,
   "metadata": {},
   "outputs": [],
   "source": [
    "# Loading the user data\n",
    "# User ID, Movie ID, Rating and Date\n",
    "flag_limit = False\n",
    "df1 = readFile('data/combined_data_1.txt', flag = flag_limit)\n",
    "df2 = readFile('data/combined_data_2.txt', flag = flag_limit)\n",
    "df3 = readFile('data/combined_data_3.txt', flag = flag_limit)\n",
    "df4 = readFile('data/combined_data_4.txt', flag = flag_limit)\n",
    "# Transform everything to INT, occupies less RAM.\n",
    "df1['Rating'] = df1['Rating'].astype(int)\n",
    "df2['Rating'] = df2['Rating'].astype(int)\n",
    "df3['Rating'] = df3['Rating'].astype(int)\n",
    "df4['Rating'] = df4['Rating'].astype(int)\n",
    "df1['Cust_Id'] = df1['Cust_Id'].astype(int)\n",
    "df2['Cust_Id'] = df2['Cust_Id'].astype(int)\n",
    "df3['Cust_Id'] = df3['Cust_Id'].astype(int)\n",
    "df4['Cust_Id'] = df4['Cust_Id'].astype(int)"
   ]
  },
  {
   "cell_type": "code",
   "execution_count": 6,
   "metadata": {},
   "outputs": [
    {
     "data": {
      "text/plain": [
       "0"
      ]
     },
     "execution_count": 6,
     "metadata": {},
     "output_type": "execute_result"
    }
   ],
   "source": [
    "# Creation of the DataFrame with all the data\n",
    "df = df1.copy()\n",
    "df = pd.concat([df1, df2, df3, df4])\n",
    "df.index = np.arange(0,len(df))\n",
    "df.head(10)\n",
    "# Drop everything but the essential information\n",
    "df = df.loc[:, ['Cust_Id', 'Movie_Id', 'Rating']]\n",
    "original = df\n",
    "\n",
    "del df1, df2, df3, df4, # df_title\n",
    "gc.collect()"
   ]
  },
  {
   "cell_type": "code",
   "execution_count": null,
   "metadata": {},
   "outputs": [],
   "source": [
    "df.groupby('Movie_Id')['Rating'].count().sort_values(ascending=True).mean()"
   ]
  },
  {
   "cell_type": "code",
   "execution_count": 22,
   "metadata": {},
   "outputs": [
    {
     "data": {
      "image/png": "[encoded data removed]",
      "text/plain": [
       "<Figure size 640x480 with 1 Axes>"
      ]
     },
     "metadata": {},
     "output_type": "display_data"
    }
   ],
   "source": [
    "mr = df.groupby('Movie_Id')['Rating'].count().sort_values(ascending=True).head(14000)\n",
    "\n",
    "ax = sns.histplot(data=mr)\n",
    "ax.bar_label(ax.containers[0])\n",
    "plt.axis('on')\n",
    "plt.xlabel('Number of Ratings')\n",
    "plt.xscale('linear')\n",
    "plt.ylabel('Number of Movies')\n",
    "plt.show()"
   ]
  },
  {
   "cell_type": "code",
   "execution_count": 23,
   "metadata": {},
   "outputs": [],
   "source": [
    "# Number of unique movies\n",
    "movie_count = df['Movie_Id'].nunique()\n",
    "\n",
    "# Number of unique customers\n",
    "cust_count = df['Cust_Id'].nunique()\n",
    "\n",
    "# Number of ratings\n",
    "rating_count = df['Cust_Id'].count()\n",
    "\n",
    "# How many ratings for each value (1-5)\n",
    "rating_dist = df['Rating'].value_counts().sort_index()"
   ]
  },
  {
   "cell_type": "code",
   "execution_count": 24,
   "metadata": {
    "scrolled": true
   },
   "outputs": [
    {
     "data": {
      "image/png": "[encoded data removed]",
      "text/plain": [
       "<Figure size 640x480 with 1 Axes>"
      ]
     },
     "metadata": {},
     "output_type": "display_data"
    }
   ],
   "source": [
    "# Histogram of the frequency of ratings\n",
    "rd = [(i/sum(rating_dist)*100) for i in rating_dist]\n",
    "\n",
    "ax = sns.barplot(x = np.arange(1,len(rd)+1), y = rd)\n",
    "ax.bar_label(ax.containers[0], fmt = '%.1f%%')\n",
    "ax.yaxis.set_major_formatter(mtick.PercentFormatter())\n",
    "plt.axis('on')\n",
    "plt.xlabel('Ratings')\n",
    "plt.ylabel('Frequency')\n",
    "plt.show()"
   ]
  },
  {
   "cell_type": "code",
   "execution_count": 25,
   "metadata": {},
   "outputs": [
    {
     "data": {
      "image/png": "[encoded data removed]",
      "text/plain": [
       "<Figure size 640x480 with 1 Axes>"
      ]
     },
     "metadata": {},
     "output_type": "display_data"
    }
   ],
   "source": [
    "# Histogram of the frequency of reviews by users\n",
    "# Not used in the final report\n",
    "cust_rating_dist = df['Cust_Id'].value_counts().sort_values()\n",
    "\n",
    "crd = cust_rating_dist.value_counts().sort_index()\n",
    "\n",
    "ax = sns.barplot(x = np.arange(len(crd)), y = crd) \n",
    "plt.show()"
   ]
  },
  {
   "cell_type": "code",
   "execution_count": 8,
   "metadata": {},
   "outputs": [],
   "source": [
    "# Reducing the dataset so it works with reasonable RAM consumption and run times\n",
    "drop_percentage = 0.99\n",
    "cid_as_int = list(map(lambda x: int(x), cid_list.keys()))\n",
    "cid_as_str = list(map(lambda x: x, cid_list.keys()))\n",
    "cid_df = pd.DataFrame(data={\"Cust_Id\": cid_as_int})\n",
    " \n",
    "# print(cid_df)\n",
    "arr_cid_to_drop = default_rng().choice(cid_df.index, size=(math.floor(len(cid_df)*drop_percentage)), replace=False)\n",
    "cid_df.drop(index=arr_cid_to_drop, inplace=True)\n",
    "mask1 = df[\"Cust_Id\"].isin(cid_df[\"Cust_Id\"].tolist())\n",
    "df = df[df[\"Cust_Id\"].isin(cid_df[\"Cust_Id\"].tolist())]\n",
    "# df.info()"
   ]
  },
  {
   "cell_type": "code",
   "execution_count": 9,
   "metadata": {},
   "outputs": [
    {
     "name": "stdout",
     "output_type": "stream",
     "text": [
      "<class 'pandas.core.frame.DataFrame'>\n",
      "Int64Index: 991747 entries, 310 to 100480478\n",
      "Data columns (total 3 columns):\n",
      " #   Column    Non-Null Count   Dtype\n",
      "---  ------    --------------   -----\n",
      " 0   Cust_Id   991747 non-null  int64\n",
      " 1   Movie_Id  991747 non-null  int64\n",
      " 2   Rating    991747 non-null  int64\n",
      "dtypes: int64(3)\n",
      "memory usage: 30.3 MB\n"
     ]
    }
   ],
   "source": [
    "df.info()"
   ]
  },
  {
   "cell_type": "markdown",
   "metadata": {},
   "source": [
    "After the successful loading of the data into a single large dataframe, now it's time to understand the data and do a little bit of a clean up (delete rows with NaN values, look for duplicates, drop unnecessary columns etc.)"
   ]
  },
  {
   "cell_type": "code",
   "execution_count": 59,
   "metadata": {},
   "outputs": [
    {
     "data": {
      "text/html": [
       "<div>\n",
       "<style scoped>\n",
       "    .dataframe tbody tr th:only-of-type {\n",
       "        vertical-align: middle;\n",
       "    }\n",
       "\n",
       "    .dataframe tbody tr th {\n",
       "        vertical-align: top;\n",
       "    }\n",
       "\n",
       "    .dataframe thead th {\n",
       "        text-align: right;\n",
       "    }\n",
       "</style>\n",
       "<table border=\"1\" class=\"dataframe\">\n",
       "  <thead>\n",
       "    <tr style=\"text-align: right;\">\n",
       "      <th></th>\n",
       "      <th>Cust_Id</th>\n",
       "      <th>Movie_Id</th>\n",
       "      <th>Rating</th>\n",
       "    </tr>\n",
       "  </thead>\n",
       "  <tbody>\n",
       "    <tr>\n",
       "      <th>0</th>\n",
       "      <td>1488844</td>\n",
       "      <td>1</td>\n",
       "      <td>3</td>\n",
       "    </tr>\n",
       "    <tr>\n",
       "      <th>1</th>\n",
       "      <td>822109</td>\n",
       "      <td>1</td>\n",
       "      <td>5</td>\n",
       "    </tr>\n",
       "    <tr>\n",
       "      <th>2</th>\n",
       "      <td>885013</td>\n",
       "      <td>1</td>\n",
       "      <td>4</td>\n",
       "    </tr>\n",
       "    <tr>\n",
       "      <th>3</th>\n",
       "      <td>30878</td>\n",
       "      <td>1</td>\n",
       "      <td>4</td>\n",
       "    </tr>\n",
       "    <tr>\n",
       "      <th>4</th>\n",
       "      <td>823519</td>\n",
       "      <td>1</td>\n",
       "      <td>3</td>\n",
       "    </tr>\n",
       "    <tr>\n",
       "      <th>5</th>\n",
       "      <td>893988</td>\n",
       "      <td>1</td>\n",
       "      <td>3</td>\n",
       "    </tr>\n",
       "    <tr>\n",
       "      <th>6</th>\n",
       "      <td>124105</td>\n",
       "      <td>1</td>\n",
       "      <td>4</td>\n",
       "    </tr>\n",
       "    <tr>\n",
       "      <th>7</th>\n",
       "      <td>1248029</td>\n",
       "      <td>1</td>\n",
       "      <td>3</td>\n",
       "    </tr>\n",
       "    <tr>\n",
       "      <th>8</th>\n",
       "      <td>1842128</td>\n",
       "      <td>1</td>\n",
       "      <td>4</td>\n",
       "    </tr>\n",
       "    <tr>\n",
       "      <th>9</th>\n",
       "      <td>2238063</td>\n",
       "      <td>1</td>\n",
       "      <td>3</td>\n",
       "    </tr>\n",
       "  </tbody>\n",
       "</table>\n",
       "</div>"
      ],
      "text/plain": [
       "   Cust_Id  Movie_Id  Rating\n",
       "0  1488844         1       3\n",
       "1   822109         1       5\n",
       "2   885013         1       4\n",
       "3    30878         1       4\n",
       "4   823519         1       3\n",
       "5   893988         1       3\n",
       "6   124105         1       4\n",
       "7  1248029         1       3\n",
       "8  1842128         1       4\n",
       "9  2238063         1       3"
      ]
     },
     "execution_count": 59,
     "metadata": {},
     "output_type": "execute_result"
    }
   ],
   "source": [
    "# General format of the Dataframe\n",
    "df.head(10)"
   ]
  },
  {
   "cell_type": "code",
   "execution_count": 60,
   "metadata": {},
   "outputs": [
    {
     "data": {
      "text/plain": [
       "(999775, 3)"
      ]
     },
     "execution_count": 60,
     "metadata": {},
     "output_type": "execute_result"
    }
   ],
   "source": [
    "df.shape"
   ]
  },
  {
   "cell_type": "code",
   "execution_count": 61,
   "metadata": {},
   "outputs": [
    {
     "data": {
      "text/plain": [
       "Cust_Id     int64\n",
       "Movie_Id    int64\n",
       "Rating      int64\n",
       "dtype: object"
      ]
     },
     "execution_count": 61,
     "metadata": {},
     "output_type": "execute_result"
    }
   ],
   "source": [
    "# Check the type of the variables.\n",
    "# Here we identify that some are loaded as a type we don't want and thus need to transform it\n",
    "# Int occupies less memory\n",
    "df.dtypes"
   ]
  },
  {
   "cell_type": "code",
   "execution_count": 10,
   "metadata": {},
   "outputs": [
    {
     "name": "stdout",
     "output_type": "stream",
     "text": [
      "Computing the cosine similarity matrix...\n",
      "Done computing similarity matrix.\n",
      "Computing the cosine similarity matrix...\n",
      "Done computing similarity matrix.\n",
      "Computing the cosine similarity matrix...\n",
      "Done computing similarity matrix.\n",
      "Computing the cosine similarity matrix...\n",
      "Done computing similarity matrix.\n",
      "Computing the cosine similarity matrix...\n",
      "Done computing similarity matrix.\n",
      "Computing the cosine similarity matrix...\n",
      "Done computing similarity matrix.\n",
      "Evaluating RMSE, MAE of algorithm KNNBasic on 5 split(s).\n",
      "\n",
      "                  Fold 1  Fold 2  Fold 3  Fold 4  Fold 5  Mean    Std     \n",
      "RMSE (testset)    1.0068  1.0068  1.0050  1.0079  1.0084  1.0070  0.0012  \n",
      "MAE (testset)     0.7921  0.7917  0.7899  0.7922  0.7927  0.7917  0.0010  \n",
      "Fit time          33.14   33.09   33.13   33.13   33.41   33.18   0.12    \n",
      "Test time         75.02   74.10   77.04   74.07   75.10   75.07   1.08    \n"
     ]
    },
    {
     "data": {
      "text/plain": [
       "{'test_rmse': array([1.00681081, 1.00680004, 1.00496386, 1.00793601, 1.0084302 ]),\n",
       " 'test_mae': array([0.7921433 , 0.79171482, 0.78991154, 0.79221607, 0.79267613]),\n",
       " 'fit_time': (33.14222526550293,\n",
       "  33.091511964797974,\n",
       "  33.13217043876648,\n",
       "  33.130717039108276,\n",
       "  33.408663511276245),\n",
       " 'test_time': (75.02432560920715,\n",
       "  74.1037483215332,\n",
       "  77.04302334785461,\n",
       "  74.0657901763916,\n",
       "  75.10056066513062)}"
      ]
     },
     "execution_count": 10,
     "metadata": {},
     "output_type": "execute_result"
    }
   ],
   "source": [
    "# KNN\n",
    "reader = Reader(rating_scale=(1, 5))\n",
    "data = Dataset.load_from_df(df[['Cust_Id', 'Movie_Id', 'Rating']], reader)\n",
    "trainset = data.build_full_trainset()\n",
    "\n",
    "param = {'name':'cosine', 'user_based':False}\n",
    "knn = KNNBasic(sim_options=param)\n",
    "knn.fit(trainset)\n",
    "\n",
    "cross_validate(knn, data, verbose=True)"
   ]
  },
  {
   "cell_type": "code",
   "execution_count": 11,
   "metadata": {},
   "outputs": [
    {
     "data": {
      "text/html": [
       "<div>\n",
       "<style scoped>\n",
       "    .dataframe tbody tr th:only-of-type {\n",
       "        vertical-align: middle;\n",
       "    }\n",
       "\n",
       "    .dataframe tbody tr th {\n",
       "        vertical-align: top;\n",
       "    }\n",
       "\n",
       "    .dataframe thead th {\n",
       "        text-align: right;\n",
       "    }\n",
       "</style>\n",
       "<table border=\"1\" class=\"dataframe\">\n",
       "  <thead>\n",
       "    <tr style=\"text-align: right;\">\n",
       "      <th></th>\n",
       "      <th>Cust_Id</th>\n",
       "      <th>Movie_Id</th>\n",
       "      <th>Rating</th>\n",
       "    </tr>\n",
       "  </thead>\n",
       "  <tbody>\n",
       "    <tr>\n",
       "      <th>310</th>\n",
       "      <td>1682104</td>\n",
       "      <td>1</td>\n",
       "      <td>4</td>\n",
       "    </tr>\n",
       "    <tr>\n",
       "      <th>311</th>\n",
       "      <td>16272</td>\n",
       "      <td>1</td>\n",
       "      <td>4</td>\n",
       "    </tr>\n",
       "    <tr>\n",
       "      <th>434</th>\n",
       "      <td>1806515</td>\n",
       "      <td>1</td>\n",
       "      <td>3</td>\n",
       "    </tr>\n",
       "    <tr>\n",
       "      <th>670</th>\n",
       "      <td>1806515</td>\n",
       "      <td>2</td>\n",
       "      <td>3</td>\n",
       "    </tr>\n",
       "    <tr>\n",
       "      <th>811</th>\n",
       "      <td>1394444</td>\n",
       "      <td>3</td>\n",
       "      <td>5</td>\n",
       "    </tr>\n",
       "  </tbody>\n",
       "</table>\n",
       "</div>"
      ],
      "text/plain": [
       "     Cust_Id  Movie_Id  Rating\n",
       "310  1682104         1       4\n",
       "311    16272         1       4\n",
       "434  1806515         1       3\n",
       "670  1806515         2       3\n",
       "811  1394444         3       5"
      ]
     },
     "execution_count": 11,
     "metadata": {},
     "output_type": "execute_result"
    }
   ],
   "source": [
    "df.head()"
   ]
  },
  {
   "cell_type": "code",
   "execution_count": 13,
   "metadata": {},
   "outputs": [
    {
     "name": "stdout",
     "output_type": "stream",
     "text": [
      "       Movie_Id                                              Title  \\\n",
      "13781     13782                        38 Special: Live at Sturgis   \n",
      "11077     11078        Allman Brothers: Live at the Beacon Theatre   \n",
      "980         981                             How I Got into College   \n",
      "134         135                  GTO: Great Teacher Onizuka: Set 2   \n",
      "8791       8792                        Undergrads: Freshman Season   \n",
      "7949       7950                                   Le Professionnel   \n",
      "7379       7380              The String Cheese Incident: Evolution   \n",
      "12775     12776  The String Cheese Incident: Waiting for the Sn...   \n",
      "16309     16310                America's Stone Age Explorers: Nova   \n",
      "5478       5479         Shane McGowan: If I Should Fall From Grace   \n",
      "14417     14418     The Good, the Bad and the Ugly: Bonus Material   \n",
      "12116     12117                             Cruise Hawaii & Tahiti   \n",
      "13638     13639        The Man Show Presents: Girls on Trampolines   \n",
      "5449       5450  Wacky Babies & Tender Times: Marty Stouffer's ...   \n",
      "5442       5443                                     Where's Poppa?   \n",
      "9875       9876           The Buried Secrets of M. Night Shyamalan   \n",
      "6208       6209                            Gulda: Mozart Concertos   \n",
      "2924       2925                                     Virginia's Run   \n",
      "1267       1268         Martha Stewart Holidays: Homemade Holidays   \n",
      "6197       6198            Eric Rohmer Collection: The Moral Tales   \n",
      "\n",
      "       Estimate_Score  \n",
      "13781        3.833333  \n",
      "11077        3.833333  \n",
      "980          3.700000  \n",
      "134          3.700000  \n",
      "8791         3.700000  \n",
      "7949         3.666667  \n",
      "7379         3.650000  \n",
      "12775        3.650000  \n",
      "16309        3.650000  \n",
      "5478         3.647059  \n",
      "14417        3.625000  \n",
      "12116        3.625000  \n",
      "13638        3.600000  \n",
      "5449         3.600000  \n",
      "5442         3.600000  \n",
      "9875         3.586908  \n",
      "6208         3.586908  \n",
      "2924         3.586908  \n",
      "1267         3.586908  \n",
      "6197         3.586908  \n"
     ]
    }
   ],
   "source": [
    "# show results on random user\n",
    "# user_id has to be a not-dropped value as seen in the df.head above\n",
    "# We pick the first person in the table, for convenience\n",
    "userId = df.at[df.index[0], \"Cust_Id\"]\n",
    "random_user = df_title.copy()\n",
    "random_user = random_user.reset_index()\n",
    "\n",
    "random_user['Estimate_Score'] = random_user['Movie_Id'].apply(lambda x: knn.predict(userId, x).est)\n",
    "\n",
    "random_user = random_user.sort_values('Estimate_Score', ascending=False)\n",
    "print(random_user[['Movie_Id', 'Title', 'Estimate_Score']].head(20))"
   ]
  },
  {
   "cell_type": "code",
   "execution_count": 14,
   "metadata": {},
   "outputs": [
    {
     "name": "stdout",
     "output_type": "stream",
     "text": [
      "Evaluating RMSE, MAE of algorithm SVD on 5 split(s).\n",
      "\n",
      "                  Fold 1  Fold 2  Fold 3  Fold 4  Fold 5  Mean    Std     \n",
      "RMSE (testset)    0.9034  0.9034  0.9038  0.9025  0.9023  0.9031  0.0006  \n",
      "MAE (testset)     0.7027  0.7022  0.7015  0.7008  0.7005  0.7015  0.0008  \n",
      "Fit time          9.86    10.01   10.04   9.81    9.78    9.90    0.10    \n",
      "Test time         2.00    1.95    2.48    2.48    1.99    2.18    0.25    \n"
     ]
    },
    {
     "data": {
      "text/plain": [
       "{'test_rmse': array([0.90337492, 0.90341251, 0.90379564, 0.90252304, 0.90234748]),\n",
       " 'test_mae': array([0.70270163, 0.70219974, 0.70147032, 0.7007746 , 0.70053078]),\n",
       " 'fit_time': (9.856375217437744,\n",
       "  10.005193948745728,\n",
       "  10.035174369812012,\n",
       "  9.813184022903442,\n",
       "  9.778027296066284),\n",
       " 'test_time': (1.9950575828552246,\n",
       "  1.945230484008789,\n",
       "  2.4814341068267822,\n",
       "  2.477712392807007,\n",
       "  1.9890704154968262)}"
      ]
     },
     "execution_count": 14,
     "metadata": {},
     "output_type": "execute_result"
    }
   ],
   "source": [
    "# basic svd, default parameters\n",
    "svd = SVD()\n",
    "svd.fit(trainset)\n",
    "cross_validate(svd, data, verbose=True)"
   ]
  },
  {
   "cell_type": "code",
   "execution_count": 20,
   "metadata": {},
   "outputs": [
    {
     "name": "stdout",
     "output_type": "stream",
     "text": [
      "       Movie_Id                                              Title  \\\n",
      "3455       3456                                     Lost: Season 1   \n",
      "7056       7057  Lord of the Rings: The Two Towers: Extended Ed...   \n",
      "7229       7230  The Lord of the Rings: The Fellowship of the R...   \n",
      "13555     13556                            The West Wing: Season 2   \n",
      "2101       2102                             The Simpsons: Season 6   \n",
      "14960     14961  Lord of the Rings: The Return of the King: Ext...   \n",
      "7568       7569                             Dead Like Me: Season 2   \n",
      "7832       7833                     Arrested Development: Season 2   \n",
      "4426       4427                            The West Wing: Season 3   \n",
      "10777     10778                                   Scrubs: Season 1   \n",
      "7748       7749                     Curb Your Enthusiasm: Season 4   \n",
      "14549     14550          The Shawshank Redemption: Special Edition   \n",
      "12292     12293                                      The Godfather   \n",
      "2802       2803                                Pride and Prejudice   \n",
      "12890     12891                                       24: Season 3   \n",
      "17084     17085                                       24: Season 2   \n",
      "5102       5103                             The Simpsons: Season 5   \n",
      "4788       4789                            Stargate SG-1: Season 5   \n",
      "1494       1495                                    Alias: Season 1   \n",
      "11661     11662                             The Sopranos: Season 5   \n",
      "\n",
      "       Estimate_Score  \n",
      "3455         3.971588  \n",
      "7056         3.935417  \n",
      "7229         3.932181  \n",
      "13555        3.928574  \n",
      "2101         3.924535  \n",
      "14960        3.921942  \n",
      "7568         3.901729  \n",
      "7832         3.899556  \n",
      "4426         3.883635  \n",
      "10777        3.864284  \n",
      "7748         3.851624  \n",
      "14549        3.850241  \n",
      "12292        3.842347  \n",
      "2802         3.835561  \n",
      "12890        3.829802  \n",
      "17084        3.822531  \n",
      "5102         3.815308  \n",
      "4788         3.806168  \n",
      "1494         3.805309  \n",
      "11661        3.799820  \n"
     ]
    }
   ],
   "source": [
    "# show results on random user\n",
    "random_user = df_title.copy()\n",
    "random_user = random_user.reset_index()\n",
    "\n",
    "random_user['Estimate_Score'] = random_user['Movie_Id'].apply(lambda x: svd.predict(userId, x).est)\n",
    "\n",
    "random_user = random_user.sort_values('Estimate_Score', ascending=False)\n",
    "print(random_user[['Movie_Id', 'Title', 'Estimate_Score']].head(20))"
   ]
  }
 ],
 "metadata": {
  "kernelspec": {
   "display_name": "Python 3 (ipykernel)",
   "language": "python",
   "name": "python3"
  },
  "language_info": {
   "codemirror_mode": {
    "name": "ipython",
    "version": 3
   },
   "file_extension": ".py",
   "mimetype": "text/x-python",
   "name": "python",
   "nbconvert_exporter": "python",
   "pygments_lexer": "ipython3",
   "version": "3.8.10"
  },
  "vscode": {
   "interpreter": {
    "hash": "916dbcbb3f70747c44a77c7bcd40155683ae19c65e1c03b4aa3499c5328201f1"
   }
  }
 },
 "nbformat": 4,
 "nbformat_minor": 2
}
