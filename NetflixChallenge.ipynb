{
 "cells": [
  {
   "attachments": {},
   "cell_type": "markdown",
   "metadata": {},
   "source": [
    "### TODO\n",
    "- Everything\n",
    "- Drop users that have rated very few movies -> How to decide the threshold?\n",
    "- Define the best approach to the collaborative filtering (model-based or memory-based)\n",
    "- Build the recommender system (can it be as simple as kNN?)\n",
    "\n",
    "### DONE\n",
    "- File loading and creation of the DataFrame"
   ]
  },
  {
   "cell_type": "code",
   "execution_count": 1,
   "metadata": {},
   "outputs": [],
   "source": [
    "# Imports\n",
    "import pandas as pd\n",
    "import numpy as np\n",
    "import matplotlib.pyplot as plt"
   ]
  },
  {
   "cell_type": "code",
   "execution_count": 2,
   "metadata": {},
   "outputs": [],
   "source": [
    "# Read Movie Titles file\n",
    "def readMovieTitle(file_path):\n",
    "    data_dict = {'Movie_Id' : [], 'Release_Year' : [], 'Title' : []}\n",
    "    data_file = open(file_path, \"r\", encoding='ISO-8859-1')\n",
    "    for line in data_file:            \n",
    "        id, year, title = line.split(',', 2)\n",
    "        data_dict['Movie_Id'].append(id)\n",
    "        data_dict['Release_Year'].append(year)\n",
    "        data_dict['Title'].append(title.rstrip('\\n'))\n",
    "    data_file.close()\n",
    "            \n",
    "    return pd.DataFrame(data_dict)"
   ]
  },
  {
   "cell_type": "code",
   "execution_count": 3,
   "metadata": {},
   "outputs": [],
   "source": [
    "# The dataset is very large, so there's a flag to load only a handful of rows if necessary\n",
    "# First 100k lines takes 0.2s to load, the whole dataset takes almost 2 minutes\n",
    "def readFile(file_path, rows = 100000, flag = False):\n",
    "    data_dict = {'Cust_Id' : [], 'Movie_Id' : [], 'Rating' : [], 'Date' : []}\n",
    "    data_file = open(file_path, \"r\")\n",
    "    count = 0\n",
    "    for line in data_file:\n",
    "        count += 1\n",
    "        if flag and (count > rows):\n",
    "            break\n",
    "            \n",
    "        if ':' in line:\n",
    "            movidId = line[:-2] # remove the last character ':'\n",
    "            movieId = int(movidId)\n",
    "        else:\n",
    "            customerID, rating, date = line.split(',')\n",
    "            data_dict['Cust_Id'].append(customerID)\n",
    "            data_dict['Movie_Id'].append(movieId)\n",
    "            data_dict['Rating'].append(rating)\n",
    "            data_dict['Date'].append(date.rstrip(\"\\n\"))\n",
    "    data_file.close()\n",
    "            \n",
    "    return pd.DataFrame(data_dict)"
   ]
  },
  {
   "cell_type": "code",
   "execution_count": 4,
   "metadata": {},
   "outputs": [
    {
     "data": {
      "text/html": [
       "<div>\n",
       "<style scoped>\n",
       "    .dataframe tbody tr th:only-of-type {\n",
       "        vertical-align: middle;\n",
       "    }\n",
       "\n",
       "    .dataframe tbody tr th {\n",
       "        vertical-align: top;\n",
       "    }\n",
       "\n",
       "    .dataframe thead th {\n",
       "        text-align: right;\n",
       "    }\n",
       "</style>\n",
       "<table border=\"1\" class=\"dataframe\">\n",
       "  <thead>\n",
       "    <tr style=\"text-align: right;\">\n",
       "      <th></th>\n",
       "      <th>Movie_Id</th>\n",
       "      <th>Release_Year</th>\n",
       "      <th>Title</th>\n",
       "    </tr>\n",
       "  </thead>\n",
       "  <tbody>\n",
       "    <tr>\n",
       "      <th>0</th>\n",
       "      <td>1</td>\n",
       "      <td>2003</td>\n",
       "      <td>Dinosaur Planet</td>\n",
       "    </tr>\n",
       "    <tr>\n",
       "      <th>1</th>\n",
       "      <td>2</td>\n",
       "      <td>2004</td>\n",
       "      <td>Isle of Man TT 2004 Review</td>\n",
       "    </tr>\n",
       "    <tr>\n",
       "      <th>2</th>\n",
       "      <td>3</td>\n",
       "      <td>1997</td>\n",
       "      <td>Character</td>\n",
       "    </tr>\n",
       "    <tr>\n",
       "      <th>3</th>\n",
       "      <td>4</td>\n",
       "      <td>1994</td>\n",
       "      <td>Paula Abdul's Get Up &amp; Dance</td>\n",
       "    </tr>\n",
       "    <tr>\n",
       "      <th>4</th>\n",
       "      <td>5</td>\n",
       "      <td>2004</td>\n",
       "      <td>The Rise and Fall of ECW</td>\n",
       "    </tr>\n",
       "    <tr>\n",
       "      <th>5</th>\n",
       "      <td>6</td>\n",
       "      <td>1997</td>\n",
       "      <td>Sick</td>\n",
       "    </tr>\n",
       "    <tr>\n",
       "      <th>6</th>\n",
       "      <td>7</td>\n",
       "      <td>1992</td>\n",
       "      <td>8 Man</td>\n",
       "    </tr>\n",
       "    <tr>\n",
       "      <th>7</th>\n",
       "      <td>8</td>\n",
       "      <td>2004</td>\n",
       "      <td>What the #$*! Do We Know!?</td>\n",
       "    </tr>\n",
       "    <tr>\n",
       "      <th>8</th>\n",
       "      <td>9</td>\n",
       "      <td>1991</td>\n",
       "      <td>Class of Nuke 'Em High 2</td>\n",
       "    </tr>\n",
       "    <tr>\n",
       "      <th>9</th>\n",
       "      <td>10</td>\n",
       "      <td>2001</td>\n",
       "      <td>Fighter</td>\n",
       "    </tr>\n",
       "  </tbody>\n",
       "</table>\n",
       "</div>"
      ],
      "text/plain": [
       "   Movie_Id Release_Year                         Title\n",
       "0         1         2003               Dinosaur Planet\n",
       "1         2         2004    Isle of Man TT 2004 Review\n",
       "2         3         1997                     Character\n",
       "3         4         1994  Paula Abdul's Get Up & Dance\n",
       "4         5         2004      The Rise and Fall of ECW\n",
       "5         6         1997                          Sick\n",
       "6         7         1992                         8 Man\n",
       "7         8         2004    What the #$*! Do We Know!?\n",
       "8         9         1991      Class of Nuke 'Em High 2\n",
       "9        10         2001                       Fighter"
      ]
     },
     "execution_count": 4,
     "metadata": {},
     "output_type": "execute_result"
    }
   ],
   "source": [
    "# Load the title of the movies\n",
    "df_title = readMovieTitle('data/movie_titles.csv')\n",
    "df_title['Movie_Id'] = df_title['Movie_Id'].astype(int)\n",
    "df_title.head(10)"
   ]
  },
  {
   "cell_type": "code",
   "execution_count": 5,
   "metadata": {},
   "outputs": [
    {
     "data": {
      "text/html": [
       "<div>\n",
       "<style scoped>\n",
       "    .dataframe tbody tr th:only-of-type {\n",
       "        vertical-align: middle;\n",
       "    }\n",
       "\n",
       "    .dataframe tbody tr th {\n",
       "        vertical-align: top;\n",
       "    }\n",
       "\n",
       "    .dataframe thead th {\n",
       "        text-align: right;\n",
       "    }\n",
       "</style>\n",
       "<table border=\"1\" class=\"dataframe\">\n",
       "  <thead>\n",
       "    <tr style=\"text-align: right;\">\n",
       "      <th></th>\n",
       "      <th>Movie_Id</th>\n",
       "      <th>Release_Year</th>\n",
       "      <th>Title</th>\n",
       "    </tr>\n",
       "  </thead>\n",
       "  <tbody>\n",
       "  </tbody>\n",
       "</table>\n",
       "</div>"
      ],
      "text/plain": [
       "Empty DataFrame\n",
       "Columns: [Movie_Id, Release_Year, Title]\n",
       "Index: []"
      ]
     },
     "execution_count": 5,
     "metadata": {},
     "output_type": "execute_result"
    }
   ],
   "source": [
    "df_title.loc[df_title['Movie_Id'] == '4500']"
   ]
  },
  {
   "cell_type": "code",
   "execution_count": 6,
   "metadata": {},
   "outputs": [],
   "source": [
    "# Loading the user data\n",
    "# User ID, Movie ID, Rating and Date\n",
    "flag_limit = True\n",
    "df1 = readFile('data/combined_data_1.txt', flag = flag_limit)\n",
    "df2 = readFile('data/combined_data_2.txt', flag = flag_limit)\n",
    "df3 = readFile('data/combined_data_3.txt', flag = flag_limit)\n",
    "df4 = readFile('data/combined_data_4.txt', flag = flag_limit)\n",
    "df1['Rating'] = df1['Rating'].astype(float)\n",
    "df2['Rating'] = df2['Rating'].astype(float)\n",
    "df3['Rating'] = df3['Rating'].astype(float)\n",
    "df4['Rating'] = df4['Rating'].astype(float)"
   ]
  },
  {
   "cell_type": "code",
   "execution_count": 7,
   "metadata": {},
   "outputs": [],
   "source": [
    "# Creation of the DataFrame with all the data\n",
    "df = df1.copy()\n",
    "df = pd.concat([df2, df3, df4])\n",
    "df.index = np.arange(0,len(df))\n",
    "df.head(10)\n",
    "\n",
    "# Complete Dataframe with the movie titles\n",
    "# Not necessary\n",
    "df = df.merge(df_title, how='left')\n",
    "df = df.loc[:, ['Cust_Id', 'Movie_Id', 'Title', 'Release_Year', 'Rating', 'Date']]\n",
    "df.head(-10)\n",
    "\n",
    "# Too much data, so I'm deleting the dataframes after the merge\n",
    "# In total it uses 14gb of memory\n",
    "del df1, df2, df3, df4"
   ]
  },
  {
   "cell_type": "code",
   "execution_count": 8,
   "metadata": {},
   "outputs": [
    {
     "data": {
      "text/html": [
       "<div>\n",
       "<style scoped>\n",
       "    .dataframe tbody tr th:only-of-type {\n",
       "        vertical-align: middle;\n",
       "    }\n",
       "\n",
       "    .dataframe tbody tr th {\n",
       "        vertical-align: top;\n",
       "    }\n",
       "\n",
       "    .dataframe thead th {\n",
       "        text-align: right;\n",
       "    }\n",
       "</style>\n",
       "<table border=\"1\" class=\"dataframe\">\n",
       "  <thead>\n",
       "    <tr style=\"text-align: right;\">\n",
       "      <th></th>\n",
       "      <th>Cust_Id</th>\n",
       "      <th>Movie_Id</th>\n",
       "      <th>Title</th>\n",
       "      <th>Release_Year</th>\n",
       "      <th>Rating</th>\n",
       "      <th>Date</th>\n",
       "    </tr>\n",
       "  </thead>\n",
       "  <tbody>\n",
       "    <tr>\n",
       "      <th>0</th>\n",
       "      <td>2532865</td>\n",
       "      <td>4500</td>\n",
       "      <td>Les Dames du Bois de Boulogne</td>\n",
       "      <td>1945</td>\n",
       "      <td>4.0</td>\n",
       "      <td>2005-07-26</td>\n",
       "    </tr>\n",
       "    <tr>\n",
       "      <th>1</th>\n",
       "      <td>573364</td>\n",
       "      <td>4500</td>\n",
       "      <td>Les Dames du Bois de Boulogne</td>\n",
       "      <td>1945</td>\n",
       "      <td>3.0</td>\n",
       "      <td>2005-06-20</td>\n",
       "    </tr>\n",
       "    <tr>\n",
       "      <th>2</th>\n",
       "      <td>1696725</td>\n",
       "      <td>4500</td>\n",
       "      <td>Les Dames du Bois de Boulogne</td>\n",
       "      <td>1945</td>\n",
       "      <td>3.0</td>\n",
       "      <td>2004-02-27</td>\n",
       "    </tr>\n",
       "    <tr>\n",
       "      <th>3</th>\n",
       "      <td>1253431</td>\n",
       "      <td>4500</td>\n",
       "      <td>Les Dames du Bois de Boulogne</td>\n",
       "      <td>1945</td>\n",
       "      <td>3.0</td>\n",
       "      <td>2004-03-31</td>\n",
       "    </tr>\n",
       "    <tr>\n",
       "      <th>4</th>\n",
       "      <td>1265574</td>\n",
       "      <td>4500</td>\n",
       "      <td>Les Dames du Bois de Boulogne</td>\n",
       "      <td>1945</td>\n",
       "      <td>2.0</td>\n",
       "      <td>2003-09-01</td>\n",
       "    </tr>\n",
       "    <tr>\n",
       "      <th>5</th>\n",
       "      <td>1049643</td>\n",
       "      <td>4500</td>\n",
       "      <td>Les Dames du Bois de Boulogne</td>\n",
       "      <td>1945</td>\n",
       "      <td>1.0</td>\n",
       "      <td>2003-11-15</td>\n",
       "    </tr>\n",
       "    <tr>\n",
       "      <th>6</th>\n",
       "      <td>1601348</td>\n",
       "      <td>4500</td>\n",
       "      <td>Les Dames du Bois de Boulogne</td>\n",
       "      <td>1945</td>\n",
       "      <td>4.0</td>\n",
       "      <td>2005-04-05</td>\n",
       "    </tr>\n",
       "    <tr>\n",
       "      <th>7</th>\n",
       "      <td>1495289</td>\n",
       "      <td>4500</td>\n",
       "      <td>Les Dames du Bois de Boulogne</td>\n",
       "      <td>1945</td>\n",
       "      <td>5.0</td>\n",
       "      <td>2005-07-09</td>\n",
       "    </tr>\n",
       "    <tr>\n",
       "      <th>8</th>\n",
       "      <td>1254903</td>\n",
       "      <td>4500</td>\n",
       "      <td>Les Dames du Bois de Boulogne</td>\n",
       "      <td>1945</td>\n",
       "      <td>3.0</td>\n",
       "      <td>2003-09-02</td>\n",
       "    </tr>\n",
       "    <tr>\n",
       "      <th>9</th>\n",
       "      <td>2604070</td>\n",
       "      <td>4500</td>\n",
       "      <td>Les Dames du Bois de Boulogne</td>\n",
       "      <td>1945</td>\n",
       "      <td>3.0</td>\n",
       "      <td>2005-05-15</td>\n",
       "    </tr>\n",
       "  </tbody>\n",
       "</table>\n",
       "</div>"
      ],
      "text/plain": [
       "   Cust_Id  Movie_Id                          Title Release_Year  Rating  \\\n",
       "0  2532865      4500  Les Dames du Bois de Boulogne         1945     4.0   \n",
       "1   573364      4500  Les Dames du Bois de Boulogne         1945     3.0   \n",
       "2  1696725      4500  Les Dames du Bois de Boulogne         1945     3.0   \n",
       "3  1253431      4500  Les Dames du Bois de Boulogne         1945     3.0   \n",
       "4  1265574      4500  Les Dames du Bois de Boulogne         1945     2.0   \n",
       "5  1049643      4500  Les Dames du Bois de Boulogne         1945     1.0   \n",
       "6  1601348      4500  Les Dames du Bois de Boulogne         1945     4.0   \n",
       "7  1495289      4500  Les Dames du Bois de Boulogne         1945     5.0   \n",
       "8  1254903      4500  Les Dames du Bois de Boulogne         1945     3.0   \n",
       "9  2604070      4500  Les Dames du Bois de Boulogne         1945     3.0   \n",
       "\n",
       "         Date  \n",
       "0  2005-07-26  \n",
       "1  2005-06-20  \n",
       "2  2004-02-27  \n",
       "3  2004-03-31  \n",
       "4  2003-09-01  \n",
       "5  2003-11-15  \n",
       "6  2005-04-05  \n",
       "7  2005-07-09  \n",
       "8  2003-09-02  \n",
       "9  2005-05-15  "
      ]
     },
     "execution_count": 8,
     "metadata": {},
     "output_type": "execute_result"
    }
   ],
   "source": [
    "df.head(10)"
   ]
  },
  {
   "cell_type": "code",
   "execution_count": 9,
   "metadata": {},
   "outputs": [
    {
     "data": {
      "image/png": "[encoded data removed]",
      "text/plain": [
       "<Figure size 1500x500 with 1 Axes>"
      ]
     },
     "metadata": {},
     "output_type": "display_data"
    }
   ],
   "source": [
    "# Group the dataframe by ratings\n",
    "ratings_df = df.groupby('Rating')['Rating'].agg(['count'])\n",
    "\n",
    "# Number of unique movies\n",
    "movie_count = df['Movie_Id'].nunique()\n",
    "\n",
    "# Number of unique customers\n",
    "cust_count = df['Cust_Id'].nunique()\n",
    "\n",
    "# Number of ratings\n",
    "rating_count = df['Cust_Id'].count()\n",
    "\n",
    "ax = ratings_df.plot(kind = 'barh', legend = False, figsize = (15,5))\n",
    "\n",
    "plt.title(f'Total pool: {movie_count} Movies, {cust_count:,} customers, {rating_count:,} ratings given', fontsize=18)\n",
    "plt.axis('off')\n",
    "\n",
    "for i in range(1,6):\n",
    "    ax.text(ratings_df.iloc[i-1][0]/4, i-1, 'Rating {}: {:.0f}%'.format(i, ratings_df.iloc[i-1][0]*100 / ratings_df.sum()[0]), color = 'white', weight = 'bold')"
   ]
  },
  {
   "cell_type": "code",
   "execution_count": 10,
   "metadata": {},
   "outputs": [
    {
     "name": "stdout",
     "output_type": "stream",
     "text": [
      "68\n"
     ]
    },
    {
     "data": {
      "text/plain": [
       "array([[<AxesSubplot: title={'center': 'count'}>]], dtype=object)"
      ]
     },
     "execution_count": 10,
     "metadata": {},
     "output_type": "execute_result"
    },
    {
     "data": {
      "image/png": "[encoded data removed]",
      "text/plain": [
       "<Figure size 640x480 with 1 Axes>"
      ]
     },
     "metadata": {},
     "output_type": "display_data"
    }
   ],
   "source": [
    "# Group users by the number of reviews\n",
    "n_df = df.groupby('Cust_Id')['Rating'].agg(['count'])\n",
    "\n",
    "print(n_df['count'].max())\n",
    "\n",
    "n_df.hist(log=True)\n"
   ]
  },
  {
   "cell_type": "code",
   "execution_count": null,
   "metadata": {},
   "outputs": [],
   "source": []
  }
 ],
 "metadata": {
  "kernelspec": {
   "display_name": "Python 3.10.4 ('ds')",
   "language": "python",
   "name": "python3"
  },
  "language_info": {
   "codemirror_mode": {
    "name": "ipython",
    "version": 3
   },
   "file_extension": ".py",
   "mimetype": "text/x-python",
   "name": "python",
   "nbconvert_exporter": "python",
   "pygments_lexer": "ipython3",
   "version": "3.10.4"
  },
  "orig_nbformat": 4,
  "vscode": {
   "interpreter": {
    "hash": "a25df13df3a09e29cbdae6ff7053faf9527e3ea6ab1de3b1c9c24b3626196969"
   }
  }
 },
 "nbformat": 4,
 "nbformat_minor": 2
}
