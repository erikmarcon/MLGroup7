{
 "cells": [
  {
   "cell_type": "markdown",
   "metadata": {},
   "source": [
    "### TODO\n",
    "- Everything\n",
    "- Drop users that have rated very few movies -> How to decide the threshold?\n",
    "- Define the best approach to the collaborative filtering (model-based or memory-based)\n",
    "- Build the recommender system (can it be as simple as kNN?)\n",
    "\n",
    "### DONE\n",
    "- File loading and creation of the DataFrame"
   ]
  },
  {
   "cell_type": "code",
   "execution_count": 52,
   "metadata": {},
   "outputs": [],
   "source": [
    "# Imports\n",
    "import os\n",
    "import gc\n",
    "import sys\n",
    "import math\n",
    "\n",
    "# from pathlib import Path\n",
    "import pandas as pd\n",
    "import numpy as np\n",
    "from numpy.random import default_rng\n",
    "import seaborn as sns\n",
    "import matplotlib.pyplot as plt\n",
    "import matplotlib.ticker as mtick\n",
    "\n",
    "from surprise import Reader, Dataset, SVD, KNNWithMeans, KNNBasic\n",
    "from surprise.model_selection import cross_validate, GridSearchCV\n",
    "\n",
    "\n",
    "# # Not being used yet.\n",
    "# from sklearn.decomposition import PCA\n",
    "# from sklearn.manifold import TSNE\n",
    "# from sklearn.model_selection import train_test_split, cross_val_predict, GridSearchCV, StratifiedKFold\n",
    "# from sklearn.preprocessing import LabelEncoder, StandardScaler\n",
    "# from sklearn.neighbors import KNeighborsClassifier\n",
    "# from sklearn.linear_model import LogisticRegression\n",
    "# from sklearn.tree import DecisionTreeClassifier\n",
    "# from sklearn.cluster import KMeans\n",
    "# from sklearn.metrics import classification_report, confusion_matrix\n",
    "# from sklearn.pipeline import Pipeline\n",
    "\n",
    "# from scipy.sparse import csr_matrix\n",
    "\n",
    "# from scipy.spatial import Voronoi, voronoi_plot_2d\n",
    "# from imblearn.over_sampling import SMOTE\n",
    "\n",
    "sns.set_theme(style=\"darkgrid\")"
   ]
  },
  {
   "cell_type": "code",
   "execution_count": 53,
   "metadata": {},
   "outputs": [],
   "source": [
    "# Read Movie Titles file\n",
    "def readMovieTitle(file_path):\n",
    "    data_dict = {'Movie_Id' : [], 'Release_Year' : [], 'Title' : []}\n",
    "    data_file = open(file_path, \"r\", encoding='ISO-8859-1')\n",
    "    for line in data_file:            \n",
    "        id, year, title = line.split(',', 2)\n",
    "        data_dict['Movie_Id'].append(id)\n",
    "        data_dict['Release_Year'].append(year)\n",
    "        data_dict['Title'].append(title.rstrip('\\n'))\n",
    "    data_file.close()\n",
    "            \n",
    "    return pd.DataFrame(data_dict)"
   ]
  },
  {
   "cell_type": "code",
   "execution_count": 54,
   "metadata": {},
   "outputs": [],
   "source": [
    "# The dataset is very large, so there's a flag to load only a handful of rows if necessary\n",
    "# First 1M lines takes 0.2s to load, the whole dataset takes almost 2 minutes\n",
    "cid_list = {}\n",
    "def readFile(file_path, rows = 1000000, flag = False):\n",
    "    data_dict = {'Cust_Id' : [], 'Movie_Id' : [], 'Rating' : [], 'Date' : []}\n",
    "    data_file = open(file_path, \"r\")\n",
    "    count = 0\n",
    "    for line in data_file:\n",
    "        count += 1\n",
    "        if flag and (count > rows):\n",
    "            break\n",
    "            \n",
    "        if ':' in line:\n",
    "            movieId = line[:-2] # remove the last character ':'\n",
    "            movieId = int(movieId)\n",
    "        else:\n",
    "            customerID, rating, date = line.split(',')\n",
    "            if (customerID not in cid_list):\n",
    "                cid_list[customerID] = 1\n",
    "            else:\n",
    "                cid_list[customerID] += 1\n",
    "            data_dict['Cust_Id'].append(customerID)\n",
    "            data_dict['Movie_Id'].append(movieId)\n",
    "            data_dict['Rating'].append(rating)\n",
    "            data_dict['Date'].append(date.rstrip(\"\\n\"))\n",
    "    data_file.close()\n",
    "            \n",
    "    return pd.DataFrame(data_dict)"
   ]
  },
  {
   "cell_type": "code",
   "execution_count": 55,
   "metadata": {},
   "outputs": [
    {
     "data": {
      "text/html": [
       "<div>\n",
       "<style scoped>\n",
       "    .dataframe tbody tr th:only-of-type {\n",
       "        vertical-align: middle;\n",
       "    }\n",
       "\n",
       "    .dataframe tbody tr th {\n",
       "        vertical-align: top;\n",
       "    }\n",
       "\n",
       "    .dataframe thead th {\n",
       "        text-align: right;\n",
       "    }\n",
       "</style>\n",
       "<table border=\"1\" class=\"dataframe\">\n",
       "  <thead>\n",
       "    <tr style=\"text-align: right;\">\n",
       "      <th></th>\n",
       "      <th>Movie_Id</th>\n",
       "      <th>Release_Year</th>\n",
       "      <th>Title</th>\n",
       "    </tr>\n",
       "  </thead>\n",
       "  <tbody>\n",
       "    <tr>\n",
       "      <th>0</th>\n",
       "      <td>1</td>\n",
       "      <td>2003</td>\n",
       "      <td>Dinosaur Planet</td>\n",
       "    </tr>\n",
       "    <tr>\n",
       "      <th>1</th>\n",
       "      <td>2</td>\n",
       "      <td>2004</td>\n",
       "      <td>Isle of Man TT 2004 Review</td>\n",
       "    </tr>\n",
       "    <tr>\n",
       "      <th>2</th>\n",
       "      <td>3</td>\n",
       "      <td>1997</td>\n",
       "      <td>Character</td>\n",
       "    </tr>\n",
       "    <tr>\n",
       "      <th>3</th>\n",
       "      <td>4</td>\n",
       "      <td>1994</td>\n",
       "      <td>Paula Abdul's Get Up &amp; Dance</td>\n",
       "    </tr>\n",
       "    <tr>\n",
       "      <th>4</th>\n",
       "      <td>5</td>\n",
       "      <td>2004</td>\n",
       "      <td>The Rise and Fall of ECW</td>\n",
       "    </tr>\n",
       "    <tr>\n",
       "      <th>5</th>\n",
       "      <td>6</td>\n",
       "      <td>1997</td>\n",
       "      <td>Sick</td>\n",
       "    </tr>\n",
       "    <tr>\n",
       "      <th>6</th>\n",
       "      <td>7</td>\n",
       "      <td>1992</td>\n",
       "      <td>8 Man</td>\n",
       "    </tr>\n",
       "    <tr>\n",
       "      <th>7</th>\n",
       "      <td>8</td>\n",
       "      <td>2004</td>\n",
       "      <td>What the #$*! Do We Know!?</td>\n",
       "    </tr>\n",
       "    <tr>\n",
       "      <th>8</th>\n",
       "      <td>9</td>\n",
       "      <td>1991</td>\n",
       "      <td>Class of Nuke 'Em High 2</td>\n",
       "    </tr>\n",
       "    <tr>\n",
       "      <th>9</th>\n",
       "      <td>10</td>\n",
       "      <td>2001</td>\n",
       "      <td>Fighter</td>\n",
       "    </tr>\n",
       "  </tbody>\n",
       "</table>\n",
       "</div>"
      ],
      "text/plain": [
       "   Movie_Id Release_Year                         Title\n",
       "0         1         2003               Dinosaur Planet\n",
       "1         2         2004    Isle of Man TT 2004 Review\n",
       "2         3         1997                     Character\n",
       "3         4         1994  Paula Abdul's Get Up & Dance\n",
       "4         5         2004      The Rise and Fall of ECW\n",
       "5         6         1997                          Sick\n",
       "6         7         1992                         8 Man\n",
       "7         8         2004    What the #$*! Do We Know!?\n",
       "8         9         1991      Class of Nuke 'Em High 2\n",
       "9        10         2001                       Fighter"
      ]
     },
     "execution_count": 55,
     "metadata": {},
     "output_type": "execute_result"
    }
   ],
   "source": [
    "# Load the title of the movies into a dataframe\n",
    "df_title = readMovieTitle('data/movie_titles.csv')\n",
    "df_title['Movie_Id'] = df_title['Movie_Id'].astype(int)\n",
    "df_title.head(10)\n",
    "# df_title.loc[df_title['Movie_Id'] == 1]"
   ]
  },
  {
   "cell_type": "code",
   "execution_count": 56,
   "metadata": {},
   "outputs": [],
   "source": [
    "# Loading the user data\n",
    "# User ID, Movie ID, Rating and Date\n",
    "flag_limit = True\n",
    "df = readFile('data/combined_data_all.txt', flag = flag_limit)\n",
    "# Transform everything to INT, occupies less RAM.\n",
    "df['Rating'] = df['Rating'].astype(int)\n",
    "df['Cust_Id'] = df['Cust_Id'].astype(int)"
   ]
  },
  {
   "cell_type": "code",
   "execution_count": 57,
   "metadata": {},
   "outputs": [
    {
     "data": {
      "text/plain": [
       "633464"
      ]
     },
     "execution_count": 57,
     "metadata": {},
     "output_type": "execute_result"
    }
   ],
   "source": [
    "# Creation of the DataFrame with all the data\n",
    "df.index = np.arange(0,len(df))\n",
    "df.head(10)\n",
    "# Drop everything but the essential information\n",
    "df = df.loc[:, ['Cust_Id', 'Movie_Id', 'Rating']]\n",
    "original = df\n",
    "\n",
    "# # Complete Dataframe with the movie titles\n",
    "# # Not necessary\n",
    "# df = df.merge(df_title, how='left')\n",
    "# df = df.loc[:, ['Cust_Id', 'Movie_Id', 'Title', 'Release_Year', 'Rating', 'Date']]\n",
    "# df.head(-10)\n",
    "\n",
    "# Too much data, so I'm deleting the dataframes after the merge\n",
    "# In total it uses 14gb of memory\n",
    "# Explicitily calling the garbage collector to free up RAM\n",
    "gc.collect()"
   ]
  },
  {
   "cell_type": "code",
   "execution_count": 58,
   "metadata": {},
   "outputs": [
    {
     "name": "stdout",
     "output_type": "stream",
     "text": [
      "<class 'pandas.core.frame.DataFrame'>\n",
      "Int64Index: 999775 entries, 0 to 999774\n",
      "Data columns (total 3 columns):\n",
      " #   Column    Non-Null Count   Dtype\n",
      "---  ------    --------------   -----\n",
      " 0   Cust_Id   999775 non-null  int64\n",
      " 1   Movie_Id  999775 non-null  int64\n",
      " 2   Rating    999775 non-null  int64\n",
      "dtypes: int64(3)\n",
      "memory usage: 30.5 MB\n"
     ]
    }
   ],
   "source": [
    "df.info()"
   ]
  },
  {
   "cell_type": "markdown",
   "metadata": {},
   "source": [
    "After the successful loading of the data into a single large dataframe, now it's time to understand the data and do a little bit of a clean up (delete rows with NaN values, look for duplicates, drop unnecessary columns etc.)"
   ]
  },
  {
   "cell_type": "code",
   "execution_count": 59,
   "metadata": {},
   "outputs": [
    {
     "data": {
      "text/html": [
       "<div>\n",
       "<style scoped>\n",
       "    .dataframe tbody tr th:only-of-type {\n",
       "        vertical-align: middle;\n",
       "    }\n",
       "\n",
       "    .dataframe tbody tr th {\n",
       "        vertical-align: top;\n",
       "    }\n",
       "\n",
       "    .dataframe thead th {\n",
       "        text-align: right;\n",
       "    }\n",
       "</style>\n",
       "<table border=\"1\" class=\"dataframe\">\n",
       "  <thead>\n",
       "    <tr style=\"text-align: right;\">\n",
       "      <th></th>\n",
       "      <th>Cust_Id</th>\n",
       "      <th>Movie_Id</th>\n",
       "      <th>Rating</th>\n",
       "    </tr>\n",
       "  </thead>\n",
       "  <tbody>\n",
       "    <tr>\n",
       "      <th>0</th>\n",
       "      <td>1488844</td>\n",
       "      <td>1</td>\n",
       "      <td>3</td>\n",
       "    </tr>\n",
       "    <tr>\n",
       "      <th>1</th>\n",
       "      <td>822109</td>\n",
       "      <td>1</td>\n",
       "      <td>5</td>\n",
       "    </tr>\n",
       "    <tr>\n",
       "      <th>2</th>\n",
       "      <td>885013</td>\n",
       "      <td>1</td>\n",
       "      <td>4</td>\n",
       "    </tr>\n",
       "    <tr>\n",
       "      <th>3</th>\n",
       "      <td>30878</td>\n",
       "      <td>1</td>\n",
       "      <td>4</td>\n",
       "    </tr>\n",
       "    <tr>\n",
       "      <th>4</th>\n",
       "      <td>823519</td>\n",
       "      <td>1</td>\n",
       "      <td>3</td>\n",
       "    </tr>\n",
       "    <tr>\n",
       "      <th>5</th>\n",
       "      <td>893988</td>\n",
       "      <td>1</td>\n",
       "      <td>3</td>\n",
       "    </tr>\n",
       "    <tr>\n",
       "      <th>6</th>\n",
       "      <td>124105</td>\n",
       "      <td>1</td>\n",
       "      <td>4</td>\n",
       "    </tr>\n",
       "    <tr>\n",
       "      <th>7</th>\n",
       "      <td>1248029</td>\n",
       "      <td>1</td>\n",
       "      <td>3</td>\n",
       "    </tr>\n",
       "    <tr>\n",
       "      <th>8</th>\n",
       "      <td>1842128</td>\n",
       "      <td>1</td>\n",
       "      <td>4</td>\n",
       "    </tr>\n",
       "    <tr>\n",
       "      <th>9</th>\n",
       "      <td>2238063</td>\n",
       "      <td>1</td>\n",
       "      <td>3</td>\n",
       "    </tr>\n",
       "  </tbody>\n",
       "</table>\n",
       "</div>"
      ],
      "text/plain": [
       "   Cust_Id  Movie_Id  Rating\n",
       "0  1488844         1       3\n",
       "1   822109         1       5\n",
       "2   885013         1       4\n",
       "3    30878         1       4\n",
       "4   823519         1       3\n",
       "5   893988         1       3\n",
       "6   124105         1       4\n",
       "7  1248029         1       3\n",
       "8  1842128         1       4\n",
       "9  2238063         1       3"
      ]
     },
     "execution_count": 59,
     "metadata": {},
     "output_type": "execute_result"
    }
   ],
   "source": [
    "# General format of the Dataframe\n",
    "df.head(10)"
   ]
  },
  {
   "cell_type": "code",
   "execution_count": 60,
   "metadata": {},
   "outputs": [
    {
     "data": {
      "text/plain": [
       "(999775, 3)"
      ]
     },
     "execution_count": 60,
     "metadata": {},
     "output_type": "execute_result"
    }
   ],
   "source": [
    "df.shape"
   ]
  },
  {
   "cell_type": "code",
   "execution_count": 61,
   "metadata": {},
   "outputs": [
    {
     "data": {
      "text/plain": [
       "Cust_Id     int64\n",
       "Movie_Id    int64\n",
       "Rating      int64\n",
       "dtype: object"
      ]
     },
     "execution_count": 61,
     "metadata": {},
     "output_type": "execute_result"
    }
   ],
   "source": [
    "# Check the type of the variables.\n",
    "# Here we identify that some are loaded as a type we don't want and thus need to transform it\n",
    "# Int occupies less memory\n",
    "df.dtypes"
   ]
  },
  {
   "cell_type": "code",
   "execution_count": 62,
   "metadata": {},
   "outputs": [
    {
     "name": "stdout",
     "output_type": "stream",
     "text": [
      "Computing the cosine similarity matrix...\n",
      "Done computing similarity matrix.\n",
      "Computing the cosine similarity matrix...\n",
      "Done computing similarity matrix.\n",
      "Computing the cosine similarity matrix...\n",
      "Done computing similarity matrix.\n",
      "Computing the cosine similarity matrix...\n",
      "Done computing similarity matrix.\n",
      "Computing the cosine similarity matrix...\n",
      "Done computing similarity matrix.\n",
      "Computing the cosine similarity matrix...\n",
      "Done computing similarity matrix.\n",
      "Evaluating RMSE, MAE of algorithm KNNBasic on 5 split(s).\n",
      "\n",
      "                  Fold 1  Fold 2  Fold 3  Fold 4  Fold 5  Mean    Std     \n",
      "RMSE (testset)    1.1400  1.1392  1.1425  1.1397  1.1403  1.1403  0.0012  \n",
      "MAE (testset)     0.8846  0.8850  0.8867  0.8841  0.8853  0.8852  0.0009  \n",
      "Fit time          0.23    0.52    0.52    0.52    0.52    0.46    0.12    \n",
      "Test time         2.12    2.94    2.99    2.12    3.02    2.64    0.42    \n"
     ]
    },
    {
     "data": {
      "text/plain": [
       "{'test_rmse': array([1.13997281, 1.13917877, 1.14252104, 1.13966647, 1.14029076]),\n",
       " 'test_mae': array([0.88464027, 0.88499256, 0.88667434, 0.88414774, 0.88532102]),\n",
       " 'fit_time': (0.22893929481506348,\n",
       "  0.5164978504180908,\n",
       "  0.5166056156158447,\n",
       "  0.522911548614502,\n",
       "  0.5228252410888672),\n",
       " 'test_time': (2.1197121143341064,\n",
       "  2.943342924118042,\n",
       "  2.9879088401794434,\n",
       "  2.118340492248535,\n",
       "  3.0225088596343994)}"
      ]
     },
     "execution_count": 62,
     "metadata": {},
     "output_type": "execute_result"
    }
   ],
   "source": [
    "# KNN\n",
    "reader = Reader(rating_scale=(1, 5))\n",
    "data = Dataset.load_from_df(df[['Cust_Id', 'Movie_Id', 'Rating']], reader)\n",
    "trainset = data.build_full_trainset()\n",
    "\n",
    "param = {'name':'cosine', 'user_based':False}\n",
    "knn = KNNBasic(sim_options=param)\n",
    "knn.fit(trainset)\n",
    "\n",
    "cross_validate(knn, data, verbose=True)"
   ]
  },
  {
   "cell_type": "code",
   "execution_count": 63,
   "metadata": {},
   "outputs": [
    {
     "name": "stdout",
     "output_type": "stream",
     "text": [
      "     Movie_Id                                           Title  Estimate_Score\n",
      "14         15                Neil Diamond: Greatest Hits Live        3.061273\n",
      "98         99                                   A Fishy Story        2.964362\n",
      "146       147                         Where Sleeping Dogs Lie        2.892408\n",
      "152       153                                        MTV Yoga        2.841437\n",
      "93         94                             G3: Live in Concert        2.836009\n",
      "86         87                               Louder Than Bombs        2.804850\n",
      "118       119               Travel the World by Train: Africa        2.725787\n",
      "202       203       Sports Illustrated Swimsuit Edition: 1997        2.723478\n",
      "30         31      Classic Albums: Meat Loaf: Bat Out of Hell        2.710462\n",
      "135       136                              Cat and the Canary        2.698993\n",
      "195       196               Peter Tosh: Stepping Razor: Red X        2.602394\n",
      "48         49     Devo: The Complete Truth About De-evolution        2.557708\n",
      "143       144  Deepak Chopra: The Way of the Wizard & Alchemy        2.531207\n",
      "199       200                    The Fall of the Roman Empire        2.505864\n",
      "59         60                                   The Libertine        2.431754\n",
      "206       207              Denise Austin: Ultimate Fat Burner        2.423438\n",
      "217       218                Triumph: Live at the US Festival        2.404279\n",
      "11         12                            My Favorite Brunette        2.381987\n",
      "88         89                                Chain of Command        2.313769\n",
      "65         66                               Barbarian Queen 2        2.309830\n"
     ]
    }
   ],
   "source": [
    "# show results on random user\n",
    "random_user = df_title.copy()\n",
    "random_user = random_user.reset_index()\n",
    "\n",
    "random_user['Estimate_Score'] = random_user['Movie_Id'].apply(lambda x: knn.predict(305344, x).est)[:225]\n",
    "\n",
    "random_user = random_user.sort_values('Estimate_Score', ascending=False)\n",
    "print(random_user[['Movie_Id', 'Title', 'Estimate_Score']].head(20))"
   ]
  },
  {
   "cell_type": "code",
   "execution_count": 64,
   "metadata": {},
   "outputs": [
    {
     "name": "stdout",
     "output_type": "stream",
     "text": [
      "Evaluating RMSE, MAE of algorithm SVD on 5 split(s).\n",
      "\n",
      "                  Fold 1  Fold 2  Fold 3  Fold 4  Fold 5  Mean    Std     \n",
      "RMSE (testset)    0.9879  0.9885  0.9825  0.9864  0.9871  0.9865  0.0021  \n",
      "MAE (testset)     0.7716  0.7727  0.7705  0.7711  0.7737  0.7719  0.0012  \n",
      "Fit time          10.52   10.14   10.75   10.25   10.61   10.45   0.23    \n",
      "Test time         2.02    0.94    0.96    0.94    0.94    1.16    0.43    \n"
     ]
    },
    {
     "data": {
      "text/plain": [
       "{'test_rmse': array([0.9879499 , 0.98848676, 0.98254157, 0.98638948, 0.98707492]),\n",
       " 'test_mae': array([0.77156463, 0.77273494, 0.77047786, 0.77107851, 0.77366531]),\n",
       " 'fit_time': (10.519972562789917,\n",
       "  10.141262531280518,\n",
       "  10.749834299087524,\n",
       "  10.24598240852356,\n",
       "  10.605041742324829),\n",
       " 'test_time': (2.0167856216430664,\n",
       "  0.9367775917053223,\n",
       "  0.9604594707489014,\n",
       "  0.943371057510376,\n",
       "  0.9392342567443848)}"
      ]
     },
     "execution_count": 64,
     "metadata": {},
     "output_type": "execute_result"
    }
   ],
   "source": [
    "# basic svd, default parameters\n",
    "svd = SVD()\n",
    "svd.fit(trainset)\n",
    "cross_validate(svd, data, verbose=True)"
   ]
  },
  {
   "cell_type": "code",
   "execution_count": 65,
   "metadata": {},
   "outputs": [
    {
     "name": "stdout",
     "output_type": "stream",
     "text": [
      "0.9765353808034748\n",
      "{'n_epochs': 20, 'lr_all': 0.01, 'reg_all': 0.2}\n"
     ]
    }
   ],
   "source": [
    "# Grid Search to find the best parameters for SVD\n",
    "param_grid = {\n",
    "    \"n_epochs\": [5, 20],\n",
    "    \"lr_all\": [0.002, 0.01],\n",
    "    \"reg_all\": [0.2, 0.6]\n",
    "}\n",
    "gs = GridSearchCV(SVD, param_grid, measures=[\"rmse\", \"mae\"], cv=3)\n",
    "\n",
    "gs.fit(data)\n",
    "\n",
    "print(gs.best_score[\"rmse\"])\n",
    "print(gs.best_params[\"rmse\"])\n"
   ]
  },
  {
   "cell_type": "code",
   "execution_count": 66,
   "metadata": {},
   "outputs": [
    {
     "name": "stdout",
     "output_type": "stream",
     "text": [
      "Evaluating RMSE, MAE of algorithm SVD on 5 split(s).\n",
      "\n",
      "                  Fold 1  Fold 2  Fold 3  Fold 4  Fold 5  Mean    Std     \n",
      "RMSE (testset)    0.9728  0.9733  0.9754  0.9715  0.9767  0.9739  0.0019  \n",
      "MAE (testset)     0.7676  0.7677  0.7695  0.7658  0.7713  0.7684  0.0019  \n",
      "Fit time          10.31   10.06   11.04   10.51   10.95   10.57   0.37    \n",
      "Test time         2.01    2.05    2.08    0.96    0.96    1.61    0.53    \n"
     ]
    },
    {
     "data": {
      "text/plain": [
       "{'test_rmse': array([0.97277074, 0.97325959, 0.97542883, 0.97150085, 0.97669553]),\n",
       " 'test_mae': array([0.76755501, 0.76773153, 0.76954848, 0.7657756 , 0.77129046]),\n",
       " 'fit_time': (10.312148809432983,\n",
       "  10.05708384513855,\n",
       "  11.038317918777466,\n",
       "  10.51296353340149,\n",
       "  10.95428991317749),\n",
       " 'test_time': (2.0131826400756836,\n",
       "  2.052044630050659,\n",
       "  2.0820248126983643,\n",
       "  0.961512565612793,\n",
       "  0.9560861587524414)}"
      ]
     },
     "execution_count": 66,
     "metadata": {},
     "output_type": "execute_result"
    }
   ],
   "source": [
    "# run svd again but with new parameters\n",
    "opt = gs.best_params[\"rmse\"]\n",
    "svd = SVD(n_epochs=opt[\"n_epochs\"], lr_all=opt[\"lr_all\"], reg_all=opt[\"reg_all\"])\n",
    "svd.fit(trainset)\n",
    "cross_validate(svd, data, verbose=True)"
   ]
  },
  {
   "cell_type": "code",
   "execution_count": 67,
   "metadata": {},
   "outputs": [
    {
     "name": "stdout",
     "output_type": "stream",
     "text": [
      "     Movie_Id                                              Title  \\\n",
      "12         13  Lord of the Rings: The Return of the King: Ext...   \n",
      "105       106  Stevie Ray Vaughan and Double Trouble: Live at...   \n",
      "208       209               Star Trek: Deep Space Nine: Season 5   \n",
      "75         76                              I Love Lucy: Season 2   \n",
      "134       135                  GTO: Great Teacher Onizuka: Set 2   \n",
      "84         85                                         Elfen Lied   \n",
      "214       215                           That '70s Show: Season 1   \n",
      "222       223                         Chappelle's Show: Season 1   \n",
      "31         32  ABC Primetime: Mel Gibson's The Passion of the...   \n",
      "166       167                                         The Chorus   \n",
      "32         33                     Aqua Teen Hunger Force: Vol. 1   \n",
      "24         25      Inspector Morse 31: Death Is Now My Neighbour   \n",
      "36         37                              Zatoichi's Conspiracy   \n",
      "67         68                                        Invader Zim   \n",
      "151       152                                  A Little Princess   \n",
      "96         97                                      Mostly Martha   \n",
      "137       138                       Star Trek: Voyager: Season 1   \n",
      "164       165            Richard Pryor: Live on the Sunset Strip   \n",
      "158       159                               Gentlemen of Fortune   \n",
      "4           5                           The Rise and Fall of ECW   \n",
      "\n",
      "     Estimate_Score  \n",
      "12         3.020416  \n",
      "105        2.872754  \n",
      "208        2.854694  \n",
      "75         2.843834  \n",
      "134        2.842748  \n",
      "84         2.841143  \n",
      "214        2.840036  \n",
      "222        2.793264  \n",
      "31         2.756702  \n",
      "166        2.735229  \n",
      "32         2.729112  \n",
      "24         2.704745  \n",
      "36         2.681539  \n",
      "67         2.677113  \n",
      "151        2.669715  \n",
      "96         2.661781  \n",
      "137        2.629896  \n",
      "164        2.628410  \n",
      "158        2.618282  \n",
      "4          2.609035  \n"
     ]
    }
   ],
   "source": [
    "# show results on random user\n",
    "random_user = df_title.copy()\n",
    "random_user = random_user.reset_index()\n",
    "\n",
    "random_user['Estimate_Score'] = random_user['Movie_Id'].apply(lambda x: svd.predict(305344, x).est)\n",
    "\n",
    "random_user = random_user.sort_values('Estimate_Score', ascending=False)\n",
    "print(random_user[['Movie_Id', 'Title', 'Estimate_Score']].head(20))"
   ]
  },
  {
   "cell_type": "markdown",
   "metadata": {},
   "source": [
    "Now the dataset is clean (it already was, but nonetheless this should be part of the pipeline)\n",
    "Let's investigate the data, i.e. do Feature Understanding\n",
    "Histogram, KDE, Boxplot"
   ]
  },
  {
   "cell_type": "code",
   "execution_count": null,
   "metadata": {},
   "outputs": [
    {
     "data": {
      "text/plain": [
       "48.53465346534654"
      ]
     },
     "execution_count": 39,
     "metadata": {},
     "output_type": "execute_result"
    }
   ],
   "source": [
    "df.groupby('Movie_Id')['Rating'].count().sort_values(ascending=True).mean()"
   ]
  },
  {
   "cell_type": "code",
   "execution_count": null,
   "metadata": {},
   "outputs": [
    {
     "data": {
      "image/png": "[encoded data removed]",
      "text/plain": [
       "<Figure size 640x480 with 1 Axes>"
      ]
     },
     "metadata": {},
     "output_type": "display_data"
    }
   ],
   "source": [
    "mr = df.groupby('Movie_Id')['Rating'].count().sort_values(ascending=True).head(14000)\n",
    "\n",
    "ax = sns.histplot(data=mr)\n",
    "ax.bar_label(ax.containers[0])\n",
    "plt.axis('on')\n",
    "plt.xlabel('Number of Ratings')\n",
    "plt.xscale('linear')\n",
    "plt.ylabel('Number of Movies')\n",
    "plt.show()"
   ]
  },
  {
   "cell_type": "code",
   "execution_count": null,
   "metadata": {},
   "outputs": [
    {
     "data": {
      "text/html": [
       "<div>\n",
       "<style scoped>\n",
       "    .dataframe tbody tr th:only-of-type {\n",
       "        vertical-align: middle;\n",
       "    }\n",
       "\n",
       "    .dataframe tbody tr th {\n",
       "        vertical-align: top;\n",
       "    }\n",
       "\n",
       "    .dataframe thead th {\n",
       "        text-align: right;\n",
       "    }\n",
       "</style>\n",
       "<table border=\"1\" class=\"dataframe\">\n",
       "  <thead>\n",
       "    <tr style=\"text-align: right;\">\n",
       "      <th></th>\n",
       "      <th>Movie_Id</th>\n",
       "      <th>Release_Year</th>\n",
       "      <th>Title</th>\n",
       "    </tr>\n",
       "  </thead>\n",
       "  <tbody>\n",
       "    <tr>\n",
       "      <th>5316</th>\n",
       "      <td>5317</td>\n",
       "      <td>2000</td>\n",
       "      <td>Miss Congeniality</td>\n",
       "    </tr>\n",
       "  </tbody>\n",
       "</table>\n",
       "</div>"
      ],
      "text/plain": [
       "      Movie_Id Release_Year              Title\n",
       "5316      5317         2000  Miss Congeniality"
      ]
     },
     "execution_count": 41,
     "metadata": {},
     "output_type": "execute_result"
    }
   ],
   "source": [
    "mr.tail(10)\n",
    "\n",
    "df_title.loc[(df_title['Movie_Id'] == 5317)]"
   ]
  },
  {
   "cell_type": "code",
   "execution_count": null,
   "metadata": {},
   "outputs": [],
   "source": [
    "# Number of unique movies\n",
    "movie_count = df['Movie_Id'].nunique()\n",
    "\n",
    "# Number of unique customers\n",
    "cust_count = df['Cust_Id'].nunique()\n",
    "\n",
    "# Number of ratings\n",
    "rating_count = df['Cust_Id'].count()\n",
    "\n",
    "# How many ratings for each value (1-5)\n",
    "rating_dist = df['Rating'].value_counts().sort_index()"
   ]
  },
  {
   "cell_type": "code",
   "execution_count": null,
   "metadata": {},
   "outputs": [
    {
     "data": {
      "image/png": "[encoded data removed]",
      "text/plain": [
       "<Figure size 640x480 with 1 Axes>"
      ]
     },
     "metadata": {},
     "output_type": "display_data"
    }
   ],
   "source": [
    "# Histogram of the frequency of ratings\n",
    "rd = [(i/sum(rating_dist)*100) for i in rating_dist]\n",
    "\n",
    "ax = sns.barplot(x = np.arange(1,len(rd)+1), y = rd)\n",
    "ax.bar_label(ax.containers[0], fmt = '%.1f%%')\n",
    "ax.yaxis.set_major_formatter(mtick.PercentFormatter())\n",
    "plt.axis('on')\n",
    "plt.xlabel('Ratings')\n",
    "plt.ylabel('Frequency')\n",
    "plt.show()\n"
   ]
  },
  {
   "cell_type": "code",
   "execution_count": null,
   "metadata": {},
   "outputs": [
    {
     "data": {
      "image/png": "[encoded data removed]",
      "text/plain": [
       "<Figure size 640x480 with 1 Axes>"
      ]
     },
     "metadata": {},
     "output_type": "display_data"
    }
   ],
   "source": [
    "# Histogram of the frequency of reviews by users\n",
    "cust_rating_dist = df['Cust_Id'].value_counts().sort_values()\n",
    "\n",
    "crd = cust_rating_dist.value_counts().sort_index()\n",
    "\n",
    "ax = sns.barplot(x = np.arange(len(crd)), y = crd) \n",
    "plt.show()"
   ]
  },
  {
   "cell_type": "markdown",
   "metadata": {},
   "source": [
    "The data is pretty huge, after understanding it's intrincacies, we've decided to work only with the movies and users that were in the 75% quantile"
   ]
  },
  {
   "cell_type": "code",
   "execution_count": null,
   "metadata": {},
   "outputs": [
    {
     "name": "stdout",
     "output_type": "stream",
     "text": [
      "Movie minimum times of review: 26.0\n",
      "Customer minimum times of review: 4.0\n"
     ]
    }
   ],
   "source": [
    "f = ['count','mean']\n",
    "quantile = 0.75\n",
    "\n",
    "df_movie_summary = df.groupby('Movie_Id')['Rating'].agg(f)\n",
    "df_movie_summary.index = df_movie_summary.index.map(int)\n",
    "movie_benchmark = round(df_movie_summary['count'].quantile(quantile),0)\n",
    "drop_movie_list = df_movie_summary[df_movie_summary['count'] < movie_benchmark].index\n",
    "\n",
    "print('Movie minimum times of review: {}'.format(movie_benchmark))\n",
    "\n",
    "df_cust_summary = df.groupby('Cust_Id')['Rating'].agg(f)\n",
    "df_cust_summary.index = df_cust_summary.index.map(int)\n",
    "cust_benchmark = round(df_cust_summary['count'].quantile(quantile),0)\n",
    "drop_cust_list = df_cust_summary[df_cust_summary['count'] < cust_benchmark].index\n",
    "\n",
    "print('Customer minimum times of review: {}'.format(cust_benchmark))"
   ]
  },
  {
   "cell_type": "markdown",
   "metadata": {},
   "source": []
  },
  {
   "cell_type": "code",
   "execution_count": null,
   "metadata": {
    "scrolled": false
   },
   "outputs": [
    {
     "data": {
      "text/html": [
       "<div>\n",
       "<style scoped>\n",
       "    .dataframe tbody tr th:only-of-type {\n",
       "        vertical-align: middle;\n",
       "    }\n",
       "\n",
       "    .dataframe tbody tr th {\n",
       "        vertical-align: top;\n",
       "    }\n",
       "\n",
       "    .dataframe thead th {\n",
       "        text-align: right;\n",
       "    }\n",
       "</style>\n",
       "<table border=\"1\" class=\"dataframe\">\n",
       "  <thead>\n",
       "    <tr style=\"text-align: right;\">\n",
       "      <th></th>\n",
       "      <th>Cust_Id</th>\n",
       "      <th>Movie_Id</th>\n",
       "      <th>Rating</th>\n",
       "    </tr>\n",
       "  </thead>\n",
       "  <tbody>\n",
       "  </tbody>\n",
       "</table>\n",
       "</div>"
      ],
      "text/plain": [
       "Empty DataFrame\n",
       "Columns: [Cust_Id, Movie_Id, Rating]\n",
       "Index: []"
      ]
     },
     "execution_count": 46,
     "metadata": {},
     "output_type": "execute_result"
    }
   ],
   "source": [
    "# Checking the favorite movies of a random user (df['Cust_Id'].mode() -> users with most reviews)\n",
    "df.loc[(df['Cust_Id'] == 305344) & (df['Rating'] >= 4)].reset_index(drop=True)"
   ]
  },
  {
   "cell_type": "code",
   "execution_count": null,
   "metadata": {
    "scrolled": false
   },
   "outputs": [
    {
     "name": "stdout",
     "output_type": "stream",
     "text": [
      "<class 'pandas.core.frame.DataFrame'>\n",
      "Int64Index: 9804 entries, 18 to 999630\n",
      "Data columns (total 3 columns):\n",
      " #   Column    Non-Null Count  Dtype\n",
      "---  ------    --------------  -----\n",
      " 0   Cust_Id   9804 non-null   int64\n",
      " 1   Movie_Id  9804 non-null   int64\n",
      " 2   Rating    9804 non-null   int64\n",
      "dtypes: int64(3)\n",
      "memory usage: 306.4 KB\n"
     ]
    }
   ],
   "source": [
    "df.info()"
   ]
  },
  {
   "cell_type": "code",
   "execution_count": null,
   "metadata": {},
   "outputs": [
    {
     "name": "stdout",
     "output_type": "stream",
     "text": [
      "[802242, 1166750, 2250951, 1189649, 1150749, 1711751, 1764736, 1143782, 2134728, 1955609, 2626313, 926434, 1164290, 331853, 764817, 2218827, 530159, 2579932, 2561460, 1063931, 627985, 1280902, 2345097, 309296, 1632807, 1505705, 276416, 2517157]\n",
      "[[565906, 802242, 167, 4], [462268, 1166750, 143, 4], [115798, 2250951, 30, 3], [224059, 1189649, 40, 3], [78776, 1150749, 28, 5], [92504, 1711751, 29, 3], [546342, 1764736, 165, 3], [105901, 1143782, 30, 2], [589821, 2134728, 175, 5], [575344, 1955609, 173, 4], [265757, 2626313, 58, 4], [157034, 926434, 30, 3], [933435, 1164290, 199, 5], [222215, 331853, 37, 4], [240916, 764817, 46, 5], [243647, 2218827, 47, 3], [601598, 530159, 175, 2], [335962, 2579932, 88, 4], [413735, 2561460, 116, 3], [583549, 1063931, 175, 2], [450631, 627985, 133, 5], [453414, 1280902, 138, 4], [923636, 2345097, 199, 4], [694389, 309296, 187, 2], [667222, 1632807, 175, 5], [765721, 1505705, 191, 2], [892254, 276416, 197, 4], [827899, 2517157, 197, 4]]\n",
      "        Cust_Id  Movie_Id  Rating\n",
      "19024    802242         8       5\n",
      "203049   802242        30       5\n",
      "892461   802242       197       3\n",
      "47007   1166750        26       3\n",
      "56826   1166750        28       3\n",
      "...         ...       ...     ...\n",
      "641808  2345097       175       5\n",
      "536971   309296       156       3\n",
      "643276   309296       175       4\n",
      "814772  1632807       191       5\n",
      "808125   276416       191       4\n",
      "\n",
      "[67 rows x 3 columns]\n",
      "        Cust_Id  Movie_Id  Rating\n",
      "45        93986         1       5\n",
      "167     2563596         1       4\n",
      "229     1394012         1       5\n",
      "339     1819146         1       5\n",
      "480     2047577         1       3\n",
      "...         ...       ...     ...\n",
      "998599   498003       225       2\n",
      "999029   615967       225       2\n",
      "999190   960999       225       3\n",
      "999384   925611       225       1\n",
      "999476   416672       225       2\n",
      "\n",
      "[9639 rows x 3 columns]\n",
      "        Cust_Id  Movie_Id  Rating\n",
      "45        93986         1       5\n",
      "167     2563596         1       4\n",
      "229     1394012         1       5\n",
      "339     1819146         1       5\n",
      "480     2047577         1       3\n",
      "...         ...       ...     ...\n",
      "641808  2345097       175       5\n",
      "536971   309296       156       3\n",
      "643276   309296       175       4\n",
      "814772  1632807       191       5\n",
      "808125   276416       191       4\n",
      "\n",
      "[9706 rows x 3 columns]\n"
     ]
    }
   ],
   "source": [
    "df = original.copy()\n",
    "\n",
    "# df.info()\n",
    "\n",
    "# Reducing the dataset so it works with reasonable RAM consumption\n",
    "drop_percentage = 0.99\n",
    "train_percentage = 0.99\n",
    "cid_as_int = list(map(lambda x: int(x), cid_list.keys()))\n",
    "cid_as_str = list(map(lambda x: x, cid_list.keys()))\n",
    "cid_df = pd.DataFrame(data={\"Cust_Id\": cid_as_int})\n",
    "\n",
    "# print(cid_df)\n",
    "arr_cid_to_drop = default_rng().choice(cid_df.index, size=(math.floor(len(cid_df)*drop_percentage)), replace=False)\n",
    "cid_df.drop(index=arr_cid_to_drop, inplace=True)\n",
    "mask1 = df[\"Cust_Id\"].isin(cid_df[\"Cust_Id\"].tolist())\n",
    "df = df[df[\"Cust_Id\"].isin(cid_df[\"Cust_Id\"].tolist())]\n",
    "# df.info()\n",
    "\n",
    "arr_cid_train = default_rng().choice(cid_df.index, size=(math.floor(len(cid_df)*(1 - train_percentage))), replace=False)\n",
    "cid_train_df = cid_df.drop(index=arr_cid_train, inplace=False)\n",
    "mask = df[\"Cust_Id\"].isin(cid_train_df[\"Cust_Id\"].tolist())\n",
    "df_train = df[df[\"Cust_Id\"].isin(cid_train_df[\"Cust_Id\"].tolist())]\n",
    "df_test = df[~df[\"Cust_Id\"].isin(cid_train_df[\"Cust_Id\"].tolist())]\n",
    "# for everyone in df_test:\n",
    "#     remove 1 rated movie\n",
    "cids_to_remove_rating = list(dict.fromkeys(list(df_test[\"Cust_Id\"])))\n",
    "print(cids_to_remove_rating)\n",
    "df_users = []\n",
    "tuples = []\n",
    "# for i in range(len(cids_to_remove_rating)):\n",
    "#     cid = cids_to_remove_rating[i]\n",
    "#     df_users[cid] = df[df[\"Cust_Id\"] == cid].copy()\n",
    "#     a = df_users[cid].sample()\n",
    "#     print(a)\n",
    "#     print(df_users[cid])\n",
    "#     print(a.index[0])\n",
    "#     tuples.append([cid, a.at[a.index[0],\"Movie_Id\"], a.at[a.index[0],\"Rating\"]])\n",
    "#     print(tuples)\n",
    "#     df_users[cid].loc[a.index[0],\"Rating\"] = 0\n",
    "\n",
    "for i in range(len(cids_to_remove_rating)):\n",
    "    cid = cids_to_remove_rating[i]\n",
    "    df_users.append(df[df[\"Cust_Id\"] == cid].copy())\n",
    "    a = df_users[i].sample()\n",
    "    tuples.append([a.index[0], cid, a.at[a.index[0],\"Movie_Id\"], a.at[a.index[0],\"Rating\"]])\n",
    "    df_users[i].drop(index=[a.index[0]], inplace=True)\n",
    "\n",
    "print(tuples)\n",
    "df_reconstructed = pd.concat(df_users)\n",
    "print(df_reconstructed)\n",
    "print(df_train)\n",
    "df_final = pd.concat([df_train, df_reconstructed])\n",
    "print(df_final)\n",
    "#     df_test\n",
    "# print(df_test)\n",
    "# df_test[\"Cust_Id\"]\n",
    "# print(df_test)"
   ]
  },
  {
   "cell_type": "code",
   "execution_count": null,
   "metadata": {},
   "outputs": [
    {
     "name": "stdout",
     "output_type": "stream",
     "text": [
      "Customer 802242, Film 167. Real evaluation: 4. Predicted: 4.1871549935896955\n",
      "Customer 1166750, Film 143. Real evaluation: 4. Predicted: 3.9335386580997915\n",
      "Customer 2250951, Film 30. Real evaluation: 3. Predicted: 3.78662537097388\n",
      "Customer 1189649, Film 40. Real evaluation: 3. Predicted: 3.522251009644367\n",
      "Customer 1150749, Film 28. Real evaluation: 5. Predicted: 3.8377513888067716\n",
      "Customer 1711751, Film 29. Real evaluation: 3. Predicted: 3.692529290693758\n",
      "Customer 1764736, Film 165. Real evaluation: 3. Predicted: 4.080148484811493\n",
      "Customer 1143782, Film 30. Real evaluation: 2. Predicted: 3.78662537097388\n",
      "Customer 2134728, Film 175. Real evaluation: 5. Predicted: 4.035820762549432\n",
      "Customer 1955609, Film 173. Real evaluation: 4. Predicted: 3.7222563910266264\n",
      "Customer 2626313, Film 58. Real evaluation: 4. Predicted: 3.59700727946249\n",
      "Customer 926434, Film 30. Real evaluation: 3. Predicted: 3.78662537097388\n",
      "Customer 1164290, Film 199. Real evaluation: 5. Predicted: 3.96501572304087\n",
      "Customer 331853, Film 37. Real evaluation: 4. Predicted: 3.728044737626804\n",
      "Customer 764817, Film 46. Real evaluation: 5. Predicted: 3.825178547531456\n",
      "Customer 2218827, Film 47. Real evaluation: 3. Predicted: 3.4033792552738924\n",
      "Customer 530159, Film 175. Real evaluation: 2. Predicted: 4.035820762549432\n",
      "Customer 2579932, Film 88. Real evaluation: 4. Predicted: 3.4121606110739315\n",
      "Customer 2561460, Film 116. Real evaluation: 3. Predicted: 3.7630561543892904\n",
      "Customer 1063931, Film 175. Real evaluation: 2. Predicted: 4.035820762549432\n",
      "Customer 627985, Film 133. Real evaluation: 5. Predicted: 3.923128846974194\n",
      "Customer 1280902, Film 138. Real evaluation: 4. Predicted: 4.091229277454174\n",
      "Customer 2345097, Film 199. Real evaluation: 4. Predicted: 3.96501572304087\n",
      "Customer 309296, Film 187. Real evaluation: 2. Predicted: 2.979220838927206\n",
      "Customer 1632807, Film 175. Real evaluation: 5. Predicted: 4.035820762549432\n",
      "Customer 1505705, Film 191. Real evaluation: 2. Predicted: 3.973736908601926\n",
      "Customer 276416, Film 197. Real evaluation: 4. Predicted: 3.4864709091057295\n",
      "Customer 2517157, Film 197. Real evaluation: 4. Predicted: 3.4864709091057295\n",
      "Success rate: 0.2857142857142857\n"
     ]
    }
   ],
   "source": [
    "# success rates\n",
    "reader = Reader(rating_scale=(1, 5))\n",
    "data = Dataset.load_from_df(df_train[['Cust_Id', 'Movie_Id', 'Rating']], reader)\n",
    "# dataTest = Dataset.load_from_df(df_test[['Cust_Id', 'Movie_Id', 'Rating']], reader)\n",
    "\n",
    "trainingSet = data.build_full_trainset()\n",
    "# testSet = dataTest.build_full_trainset()\n",
    "svd = SVD()\n",
    "svd.fit(trainingSet)\n",
    "# svd.fit(trainingSet).test(testSet)\n",
    "\n",
    "successTimes = 0\n",
    "\n",
    "for i in range(len(tuples)):\n",
    "    index = tuples[i][0]\n",
    "    cid = tuples[i][1]\n",
    "    movId = tuples[i][2]\n",
    "    rating = tuples[i][3]\n",
    "    est = svd.predict(cid, movId).est\n",
    "    print(f\"Customer {cid}, Film {movId}. Real evaluation: {rating}. Predicted: {est}\")\n",
    "    # floor + 0.5 = closest integer\n",
    "    if math.floor(est + 0.5) == rating:\n",
    "        successTimes = successTimes + 1\n",
    "#     print(svd.predict(cid, movId).est)\n",
    "\n",
    "print(f\"Success rate: {successTimes / len(tuples)}\")"
   ]
  }
 ],
 "metadata": {
  "kernelspec": {
   "display_name": "Python 3.10.9 64-bit",
   "language": "python",
   "name": "python3"
  },
  "language_info": {
   "codemirror_mode": {
    "name": "ipython",
    "version": 3
   },
   "file_extension": ".py",
   "mimetype": "text/x-python",
   "name": "python",
   "nbconvert_exporter": "python",
   "pygments_lexer": "ipython3",
   "version": "3.10.9"
  },
  "vscode": {
   "interpreter": {
    "hash": "916dbcbb3f70747c44a77c7bcd40155683ae19c65e1c03b4aa3499c5328201f1"
   }
  }
 },
 "nbformat": 4,
 "nbformat_minor": 2
}
