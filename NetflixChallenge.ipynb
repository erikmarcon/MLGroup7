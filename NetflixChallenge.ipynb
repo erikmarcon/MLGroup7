{
 "cells": [
  {
   "attachments": {},
   "cell_type": "markdown",
   "metadata": {},
   "source": [
    "### TODO\n",
    "- Everything\n",
    "- Drop users that have rated very few movies -> How to decide the threshold?\n",
    "- Define the best approach to the collaborative filtering (model-based or memory-based)\n",
    "- Build the recommender system (can it be as simple as kNN?)\n",
    "\n",
    "### DONE\n",
    "- File loading and creation of the DataFrame"
   ]
  },
  {
   "cell_type": "code",
   "execution_count": 8,
   "metadata": {},
   "outputs": [],
   "source": [
    "# Imports\n",
    "import os\n",
    "import gc\n",
    "import sys\n",
    "# from pathlib import Path\n",
    "import pandas as pd\n",
    "import numpy as np\n",
    "import seaborn as sns\n",
    "import matplotlib.pyplot as plt\n",
    "import matplotlib.ticker as mtick\n",
    "\n",
    "from surprise import Reader, Dataset, SVD, KNNWithMeans\n",
    "from surprise.model_selection import cross_validate, GridSearchCV\n",
    "\n",
    "\n",
    "# # Not being used yet.\n",
    "# from sklearn.decomposition import PCA\n",
    "# from sklearn.manifold import TSNE\n",
    "# from sklearn.model_selection import train_test_split, cross_val_predict, GridSearchCV, StratifiedKFold\n",
    "# from sklearn.preprocessing import LabelEncoder, StandardScaler\n",
    "# from sklearn.neighbors import KNeighborsClassifier\n",
    "# from sklearn.linear_model import LogisticRegression\n",
    "# from sklearn.tree import DecisionTreeClassifier\n",
    "# from sklearn.cluster import KMeans\n",
    "# from sklearn.metrics import classification_report, confusion_matrix\n",
    "# from sklearn.pipeline import Pipeline\n",
    "\n",
    "# from scipy.sparse import csr_matrix\n",
    "\n",
    "# from scipy.spatial import Voronoi, voronoi_plot_2d\n",
    "# from imblearn.over_sampling import SMOTE\n",
    "\n",
    "sns.set_theme(style=\"darkgrid\")"
   ]
  },
  {
   "cell_type": "code",
   "execution_count": 9,
   "metadata": {},
   "outputs": [],
   "source": [
    "# Read Movie Titles file\n",
    "def readMovieTitle(file_path):\n",
    "    data_dict = {'Movie_Id' : [], 'Release_Year' : [], 'Title' : []}\n",
    "    data_file = open(file_path, \"r\", encoding='ISO-8859-1')\n",
    "    for line in data_file:            \n",
    "        id, year, title = line.split(',', 2)\n",
    "        data_dict['Movie_Id'].append(id)\n",
    "        data_dict['Release_Year'].append(year)\n",
    "        data_dict['Title'].append(title.rstrip('\\n'))\n",
    "    data_file.close()\n",
    "            \n",
    "    return pd.DataFrame(data_dict)"
   ]
  },
  {
   "cell_type": "code",
   "execution_count": 10,
   "metadata": {},
   "outputs": [],
   "source": [
    "# The dataset is very large, so there's a flag to load only a handful of rows if necessary\n",
    "# First 1M lines takes 0.2s to load, the whole dataset takes almost 2 minutes\n",
    "def readFile(file_path, rows = 1000000, flag = False):\n",
    "    data_dict = {'Cust_Id' : [], 'Movie_Id' : [], 'Rating' : [], 'Date' : []}\n",
    "    data_file = open(file_path, \"r\")\n",
    "    count = 0\n",
    "    for line in data_file:\n",
    "        count += 1\n",
    "        if flag and (count > rows):\n",
    "            break\n",
    "            \n",
    "        if ':' in line:\n",
    "            movieId = line[:-2] # remove the last character ':'\n",
    "            movieId = int(movieId)\n",
    "        else:\n",
    "            customerID, rating, date = line.split(',')\n",
    "            data_dict['Cust_Id'].append(customerID)\n",
    "            data_dict['Movie_Id'].append(movieId)\n",
    "            data_dict['Rating'].append(rating)\n",
    "            data_dict['Date'].append(date.rstrip(\"\\n\"))\n",
    "    data_file.close()\n",
    "            \n",
    "    return pd.DataFrame(data_dict)"
   ]
  },
  {
   "cell_type": "code",
   "execution_count": 11,
   "metadata": {},
   "outputs": [
    {
     "data": {
      "text/html": [
       "<div>\n",
       "<style scoped>\n",
       "    .dataframe tbody tr th:only-of-type {\n",
       "        vertical-align: middle;\n",
       "    }\n",
       "\n",
       "    .dataframe tbody tr th {\n",
       "        vertical-align: top;\n",
       "    }\n",
       "\n",
       "    .dataframe thead th {\n",
       "        text-align: right;\n",
       "    }\n",
       "</style>\n",
       "<table border=\"1\" class=\"dataframe\">\n",
       "  <thead>\n",
       "    <tr style=\"text-align: right;\">\n",
       "      <th></th>\n",
       "      <th>Movie_Id</th>\n",
       "      <th>Release_Year</th>\n",
       "      <th>Title</th>\n",
       "    </tr>\n",
       "  </thead>\n",
       "  <tbody>\n",
       "    <tr>\n",
       "      <th>0</th>\n",
       "      <td>1</td>\n",
       "      <td>2003</td>\n",
       "      <td>Dinosaur Planet</td>\n",
       "    </tr>\n",
       "    <tr>\n",
       "      <th>1</th>\n",
       "      <td>2</td>\n",
       "      <td>2004</td>\n",
       "      <td>Isle of Man TT 2004 Review</td>\n",
       "    </tr>\n",
       "    <tr>\n",
       "      <th>2</th>\n",
       "      <td>3</td>\n",
       "      <td>1997</td>\n",
       "      <td>Character</td>\n",
       "    </tr>\n",
       "    <tr>\n",
       "      <th>3</th>\n",
       "      <td>4</td>\n",
       "      <td>1994</td>\n",
       "      <td>Paula Abdul's Get Up &amp; Dance</td>\n",
       "    </tr>\n",
       "    <tr>\n",
       "      <th>4</th>\n",
       "      <td>5</td>\n",
       "      <td>2004</td>\n",
       "      <td>The Rise and Fall of ECW</td>\n",
       "    </tr>\n",
       "    <tr>\n",
       "      <th>5</th>\n",
       "      <td>6</td>\n",
       "      <td>1997</td>\n",
       "      <td>Sick</td>\n",
       "    </tr>\n",
       "    <tr>\n",
       "      <th>6</th>\n",
       "      <td>7</td>\n",
       "      <td>1992</td>\n",
       "      <td>8 Man</td>\n",
       "    </tr>\n",
       "    <tr>\n",
       "      <th>7</th>\n",
       "      <td>8</td>\n",
       "      <td>2004</td>\n",
       "      <td>What the #$*! Do We Know!?</td>\n",
       "    </tr>\n",
       "    <tr>\n",
       "      <th>8</th>\n",
       "      <td>9</td>\n",
       "      <td>1991</td>\n",
       "      <td>Class of Nuke 'Em High 2</td>\n",
       "    </tr>\n",
       "    <tr>\n",
       "      <th>9</th>\n",
       "      <td>10</td>\n",
       "      <td>2001</td>\n",
       "      <td>Fighter</td>\n",
       "    </tr>\n",
       "  </tbody>\n",
       "</table>\n",
       "</div>"
      ],
      "text/plain": [
       "   Movie_Id Release_Year                         Title\n",
       "0         1         2003               Dinosaur Planet\n",
       "1         2         2004    Isle of Man TT 2004 Review\n",
       "2         3         1997                     Character\n",
       "3         4         1994  Paula Abdul's Get Up & Dance\n",
       "4         5         2004      The Rise and Fall of ECW\n",
       "5         6         1997                          Sick\n",
       "6         7         1992                         8 Man\n",
       "7         8         2004    What the #$*! Do We Know!?\n",
       "8         9         1991      Class of Nuke 'Em High 2\n",
       "9        10         2001                       Fighter"
      ]
     },
     "execution_count": 11,
     "metadata": {},
     "output_type": "execute_result"
    }
   ],
   "source": [
    "# Load the title of the movies into a dataframe\n",
    "df_title = readMovieTitle('data/movie_titles.csv')\n",
    "df_title['Movie_Id'] = df_title['Movie_Id'].astype(int)\n",
    "df_title.head(10)\n",
    "# df_title.loc[df_title['Movie_Id'] == 1]"
   ]
  },
  {
   "cell_type": "code",
   "execution_count": 12,
   "metadata": {},
   "outputs": [],
   "source": [
    "# Loading the user data\n",
    "# User ID, Movie ID, Rating and Date\n",
    "flag_limit = False\n",
    "df1 = readFile('data/combined_data_1.txt', flag = flag_limit)\n",
    "df2 = readFile('data/combined_data_2.txt', flag = flag_limit)\n",
    "df3 = readFile('data/combined_data_3.txt', flag = flag_limit)\n",
    "df4 = readFile('data/combined_data_4.txt', flag = flag_limit)\n",
    "# Transform everything to INT, occupies less RAM.\n",
    "df1['Rating'] = df1['Rating'].astype(int)\n",
    "df2['Rating'] = df2['Rating'].astype(int)\n",
    "df3['Rating'] = df3['Rating'].astype(int)\n",
    "df4['Rating'] = df4['Rating'].astype(int)\n",
    "df1['Cust_Id'] = df1['Cust_Id'].astype(int)\n",
    "df2['Cust_Id'] = df2['Cust_Id'].astype(int)\n",
    "df3['Cust_Id'] = df3['Cust_Id'].astype(int)\n",
    "df4['Cust_Id'] = df4['Cust_Id'].astype(int)"
   ]
  },
  {
   "cell_type": "code",
   "execution_count": 13,
   "metadata": {},
   "outputs": [
    {
     "data": {
      "text/plain": [
       "0"
      ]
     },
     "execution_count": 13,
     "metadata": {},
     "output_type": "execute_result"
    }
   ],
   "source": [
    "# Creation of the DataFrame with all the data\n",
    "df = df1.copy()\n",
    "df = pd.concat([df1, df2, df3, df4])\n",
    "df.index = np.arange(0,len(df))\n",
    "df.head(10)\n",
    "# Drop everything but the essential information\n",
    "df = df.loc[:, ['Cust_Id', 'Movie_Id', 'Rating']]\n",
    "\n",
    "# # Complete Dataframe with the movie titles\n",
    "# # Not necessary\n",
    "# df = df.merge(df_title, how='left')\n",
    "# df = df.loc[:, ['Cust_Id', 'Movie_Id', 'Title', 'Release_Year', 'Rating', 'Date']]\n",
    "# df.head(-10)\n",
    "\n",
    "# Too much data, so I'm deleting the dataframes after the merge\n",
    "# In total it uses 14gb of memory\n",
    "del df1, df2, df3, df4, # df_title\n",
    "# Explicitily calling the garbage collector to free up RAM\n",
    "gc.collect()"
   ]
  },
  {
   "cell_type": "code",
   "execution_count": 14,
   "metadata": {},
   "outputs": [
    {
     "name": "stdout",
     "output_type": "stream",
     "text": [
      "<class 'pandas.core.frame.DataFrame'>\n",
      "Int64Index: 100480507 entries, 0 to 100480506\n",
      "Data columns (total 3 columns):\n",
      " #   Column    Dtype\n",
      "---  ------    -----\n",
      " 0   Cust_Id   int64\n",
      " 1   Movie_Id  int64\n",
      " 2   Rating    int64\n",
      "dtypes: int64(3)\n",
      "memory usage: 3.0 GB\n"
     ]
    }
   ],
   "source": [
    "df.info()"
   ]
  },
  {
   "attachments": {},
   "cell_type": "markdown",
   "metadata": {},
   "source": [
    "After the successful loading of the data into a single large dataframe, now it's time to understand the data and do a little bit of a clean up (delete rows with NaN values, look for duplicates, drop unnecessary columns etc.)"
   ]
  },
  {
   "cell_type": "code",
   "execution_count": 15,
   "metadata": {},
   "outputs": [
    {
     "data": {
      "text/html": [
       "<div>\n",
       "<style scoped>\n",
       "    .dataframe tbody tr th:only-of-type {\n",
       "        vertical-align: middle;\n",
       "    }\n",
       "\n",
       "    .dataframe tbody tr th {\n",
       "        vertical-align: top;\n",
       "    }\n",
       "\n",
       "    .dataframe thead th {\n",
       "        text-align: right;\n",
       "    }\n",
       "</style>\n",
       "<table border=\"1\" class=\"dataframe\">\n",
       "  <thead>\n",
       "    <tr style=\"text-align: right;\">\n",
       "      <th></th>\n",
       "      <th>Cust_Id</th>\n",
       "      <th>Movie_Id</th>\n",
       "      <th>Rating</th>\n",
       "    </tr>\n",
       "  </thead>\n",
       "  <tbody>\n",
       "    <tr>\n",
       "      <th>0</th>\n",
       "      <td>1488844</td>\n",
       "      <td>1</td>\n",
       "      <td>3</td>\n",
       "    </tr>\n",
       "    <tr>\n",
       "      <th>1</th>\n",
       "      <td>822109</td>\n",
       "      <td>1</td>\n",
       "      <td>5</td>\n",
       "    </tr>\n",
       "    <tr>\n",
       "      <th>2</th>\n",
       "      <td>885013</td>\n",
       "      <td>1</td>\n",
       "      <td>4</td>\n",
       "    </tr>\n",
       "    <tr>\n",
       "      <th>3</th>\n",
       "      <td>30878</td>\n",
       "      <td>1</td>\n",
       "      <td>4</td>\n",
       "    </tr>\n",
       "    <tr>\n",
       "      <th>4</th>\n",
       "      <td>823519</td>\n",
       "      <td>1</td>\n",
       "      <td>3</td>\n",
       "    </tr>\n",
       "    <tr>\n",
       "      <th>5</th>\n",
       "      <td>893988</td>\n",
       "      <td>1</td>\n",
       "      <td>3</td>\n",
       "    </tr>\n",
       "    <tr>\n",
       "      <th>6</th>\n",
       "      <td>124105</td>\n",
       "      <td>1</td>\n",
       "      <td>4</td>\n",
       "    </tr>\n",
       "    <tr>\n",
       "      <th>7</th>\n",
       "      <td>1248029</td>\n",
       "      <td>1</td>\n",
       "      <td>3</td>\n",
       "    </tr>\n",
       "    <tr>\n",
       "      <th>8</th>\n",
       "      <td>1842128</td>\n",
       "      <td>1</td>\n",
       "      <td>4</td>\n",
       "    </tr>\n",
       "    <tr>\n",
       "      <th>9</th>\n",
       "      <td>2238063</td>\n",
       "      <td>1</td>\n",
       "      <td>3</td>\n",
       "    </tr>\n",
       "  </tbody>\n",
       "</table>\n",
       "</div>"
      ],
      "text/plain": [
       "   Cust_Id  Movie_Id  Rating\n",
       "0  1488844         1       3\n",
       "1   822109         1       5\n",
       "2   885013         1       4\n",
       "3    30878         1       4\n",
       "4   823519         1       3\n",
       "5   893988         1       3\n",
       "6   124105         1       4\n",
       "7  1248029         1       3\n",
       "8  1842128         1       4\n",
       "9  2238063         1       3"
      ]
     },
     "execution_count": 15,
     "metadata": {},
     "output_type": "execute_result"
    }
   ],
   "source": [
    "# General format of the Dataframe\n",
    "df.head(10)"
   ]
  },
  {
   "cell_type": "code",
   "execution_count": 16,
   "metadata": {},
   "outputs": [
    {
     "data": {
      "text/plain": [
       "(100480507, 3)"
      ]
     },
     "execution_count": 16,
     "metadata": {},
     "output_type": "execute_result"
    }
   ],
   "source": [
    "df.shape"
   ]
  },
  {
   "cell_type": "code",
   "execution_count": null,
   "metadata": {},
   "outputs": [],
   "source": [
    "# Check if there are empty rows\n",
    "# Not necessary, data is clean\n",
    "#df.isna().sum()"
   ]
  },
  {
   "cell_type": "code",
   "execution_count": null,
   "metadata": {},
   "outputs": [],
   "source": [
    "# Check if there are duplicated values\n",
    "# Not necessary, data is clean\n",
    "# df.duplicated().sum()\n",
    "# If there were duplicates\n",
    "# df = df.loc[~df.duplicated()].reset_index(drop=True).copy()"
   ]
  },
  {
   "cell_type": "code",
   "execution_count": 17,
   "metadata": {},
   "outputs": [
    {
     "data": {
      "text/plain": [
       "Cust_Id     int64\n",
       "Movie_Id    int64\n",
       "Rating      int64\n",
       "dtype: object"
      ]
     },
     "execution_count": 17,
     "metadata": {},
     "output_type": "execute_result"
    }
   ],
   "source": [
    "# Check the type of the variables.\n",
    "# Here we identify that some are loaded as a type we don't want and thus need to transform it\n",
    "# Int occupies less memory\n",
    "df.dtypes"
   ]
  },
  {
   "cell_type": "code",
   "execution_count": null,
   "metadata": {},
   "outputs": [],
   "source": [
    "# Changing the types -> already did during loading, not necessary\n",
    "# df['Cust_Id'] = df['Cust_Id'].astype(int)\n",
    "# df['Release_Year'] = df['Release_Year'].astype(int)\n",
    "# df['Date'] = pd.to_datetime(df['Date'])\n",
    "# gc.collect()\n",
    "# df.dtypes"
   ]
  },
  {
   "attachments": {},
   "cell_type": "markdown",
   "metadata": {},
   "source": [
    "Now the dataset is clean (it already was, but nonetheless this should be part of the pipeline)\n",
    "Let's investigate the data, i.e. do Feature Understanding\n",
    "Histogram, KDE, Boxplot"
   ]
  },
  {
   "cell_type": "code",
   "execution_count": 91,
   "metadata": {},
   "outputs": [
    {
     "data": {
      "text/plain": [
       "5654.502363534046"
      ]
     },
     "execution_count": 91,
     "metadata": {},
     "output_type": "execute_result"
    }
   ],
   "source": [
    "df.groupby('Movie_Id')['Rating'].count().sort_values(ascending=True).mean()"
   ]
  },
  {
   "cell_type": "code",
   "execution_count": 90,
   "metadata": {},
   "outputs": [
    {
     "data": {
      "image/png": "[encoded data removed]",
      "text/plain": [
       "<Figure size 640x480 with 1 Axes>"
      ]
     },
     "metadata": {},
     "output_type": "display_data"
    }
   ],
   "source": [
    "mr = df.groupby('Movie_Id')['Rating'].count().sort_values(ascending=True).head(14000)\n",
    "\n",
    "ax = sns.histplot(data=mr)\n",
    "ax.bar_label(ax.containers[0])\n",
    "plt.axis('on')\n",
    "plt.xlabel('Number of Ratings')\n",
    "plt.xscale('linear')\n",
    "plt.ylabel('Number of Movies')\n",
    "plt.show()"
   ]
  },
  {
   "cell_type": "code",
   "execution_count": 88,
   "metadata": {},
   "outputs": [
    {
     "data": {
      "text/html": [
       "<div>\n",
       "<style scoped>\n",
       "    .dataframe tbody tr th:only-of-type {\n",
       "        vertical-align: middle;\n",
       "    }\n",
       "\n",
       "    .dataframe tbody tr th {\n",
       "        vertical-align: top;\n",
       "    }\n",
       "\n",
       "    .dataframe thead th {\n",
       "        text-align: right;\n",
       "    }\n",
       "</style>\n",
       "<table border=\"1\" class=\"dataframe\">\n",
       "  <thead>\n",
       "    <tr style=\"text-align: right;\">\n",
       "      <th></th>\n",
       "      <th>Movie_Id</th>\n",
       "      <th>Release_Year</th>\n",
       "      <th>Title</th>\n",
       "    </tr>\n",
       "  </thead>\n",
       "  <tbody>\n",
       "    <tr>\n",
       "      <th>5316</th>\n",
       "      <td>5317</td>\n",
       "      <td>2000</td>\n",
       "      <td>Miss Congeniality</td>\n",
       "    </tr>\n",
       "  </tbody>\n",
       "</table>\n",
       "</div>"
      ],
      "text/plain": [
       "      Movie_Id Release_Year              Title\n",
       "5316      5317         2000  Miss Congeniality"
      ]
     },
     "execution_count": 88,
     "metadata": {},
     "output_type": "execute_result"
    }
   ],
   "source": [
    "mr.tail(10)\n",
    "\n",
    "df_title.loc[(df_title['Movie_Id'] == 5317)]"
   ]
  },
  {
   "cell_type": "code",
   "execution_count": null,
   "metadata": {},
   "outputs": [],
   "source": [
    "# Number of unique movies\n",
    "movie_count = df['Movie_Id'].nunique()\n",
    "\n",
    "# Number of unique customers\n",
    "cust_count = df['Cust_Id'].nunique()\n",
    "\n",
    "# Number of ratings\n",
    "rating_count = df['Cust_Id'].count()\n",
    "\n",
    "# How many ratings for each value (1-5)\n",
    "rating_dist = df['Rating'].value_counts().sort_index()"
   ]
  },
  {
   "cell_type": "code",
   "execution_count": null,
   "metadata": {},
   "outputs": [],
   "source": [
    "# Histogram of the frequency of ratings\n",
    "rd = [(i/sum(rating_dist)*100) for i in rating_dist]\n",
    "\n",
    "ax = sns.barplot(x = np.arange(1,len(rd)+1), y = rd)\n",
    "ax.bar_label(ax.containers[0], fmt = '%.1f%%')\n",
    "ax.yaxis.set_major_formatter(mtick.PercentFormatter())\n",
    "plt.axis('on')\n",
    "plt.xlabel('Ratings')\n",
    "plt.ylabel('Frequency')\n",
    "plt.show()\n"
   ]
  },
  {
   "cell_type": "code",
   "execution_count": null,
   "metadata": {},
   "outputs": [],
   "source": [
    "# Histogram of the frequency of reviews by users\n",
    "cust_rating_dist = df['Cust_Id'].value_counts().sort_values()\n",
    "\n",
    "crd = cust_rating_dist.value_counts().sort_index()\n",
    "\n",
    "ax = sns.barplot(x = np.arange(len(crd)), y = crd) \n",
    "plt.show()"
   ]
  },
  {
   "attachments": {},
   "cell_type": "markdown",
   "metadata": {},
   "source": [
    "The data is pretty huge, after understanding it's intrincacies, we've decided to work only with the movies and users that were in the 75% quantile"
   ]
  },
  {
   "cell_type": "code",
   "execution_count": null,
   "metadata": {},
   "outputs": [],
   "source": [
    "f = ['count','mean']\n",
    "\n",
    "df_movie_summary = df.groupby('Movie_Id')['Rating'].agg(f)\n",
    "df_movie_summary.index = df_movie_summary.index.map(int)\n",
    "movie_benchmark = round(df_movie_summary['count'].quantile(0.75),0)\n",
    "drop_movie_list = df_movie_summary[df_movie_summary['count'] < movie_benchmark].index\n",
    "\n",
    "print('Movie minimum times of review: {}'.format(movie_benchmark))\n",
    "\n",
    "df_cust_summary = df.groupby('Cust_Id')['Rating'].agg(f)\n",
    "df_cust_summary.index = df_cust_summary.index.map(int)\n",
    "cust_benchmark = round(df_cust_summary['count'].quantile(0.75),0)\n",
    "drop_cust_list = df_cust_summary[df_cust_summary['count'] < cust_benchmark].index\n",
    "\n",
    "print('Customer minimum times of review: {}'.format(cust_benchmark))"
   ]
  },
  {
   "cell_type": "markdown",
   "metadata": {},
   "source": []
  },
  {
   "cell_type": "code",
   "execution_count": null,
   "metadata": {},
   "outputs": [],
   "source": [
    "# Checking the favorite movies of a random user (df['Cust_Id'].mode() -> users with most reviews)\n",
    "df.loc[(df['Cust_Id'] == 305344) & (df['Rating'] >= 4)].reset_index(drop=True)"
   ]
  },
  {
   "cell_type": "code",
   "execution_count": null,
   "metadata": {},
   "outputs": [],
   "source": [
    "# Creating the dataset inside Surprise\n",
    "# Surprise accepts by default only this 3 parameters \\/\n",
    "reader = Reader(rating_scale=(1, 5))\n",
    "data = Dataset.load_from_df(df[['Cust_Id', 'Movie_Id', 'Rating']], reader)\n",
    "\n",
    "trainingSet = data.build_full_trainset()"
   ]
  },
  {
   "cell_type": "code",
   "execution_count": null,
   "metadata": {},
   "outputs": [],
   "source": [
    "# Using SVD for recomendation\n",
    "# Copied this online -> don't fully understand.\n",
    "svd = SVD()\n",
    "user_305344 = df_title.copy()\n",
    "user_305344 = user_305344.reset_index()\n",
    "\n",
    "svd.fit(trainingSet)\n",
    "\n",
    "user_305344['Estimate_Score'] = user_305344['Movie_Id'].apply(lambda x: svd.predict(305344, x).est)\n",
    "\n",
    "# user_305344 = user_305344.drop('Movie_Id', axis = 1)\n",
    "\n",
    "user_305344 = user_305344.sort_values('Estimate_Score', ascending=False)\n",
    "print(user_305344[['Movie_Id', 'Title', 'Estimate_Score']].head(20))"
   ]
  },
  {
   "cell_type": "code",
   "execution_count": null,
   "metadata": {},
   "outputs": [],
   "source": [
    "# reader = Reader(rating_scale=(1, 5))\n",
    "# svd = SVD()\n",
    "\n",
    "# data = Dataset.load_from_df(df[['Cust_Id', 'Movie_Id', 'Rating']][:], reader)\n",
    "# #data.split(n_folds=3)\n",
    "\n",
    "# cross_validate(svd, data, measures=['RMSE', 'MAE'])"
   ]
  },
  {
   "cell_type": "code",
   "execution_count": null,
   "metadata": {},
   "outputs": [],
   "source": [
    "# # Grid Search to find the best parameters for SVD\n",
    "# param_grid = {\n",
    "#     \"n_epochs\": [5, 10],\n",
    "#     \"lr_all\": [0.002, 0.005],\n",
    "#     \"reg_all\": [0.4, 0.6]\n",
    "# }\n",
    "# gs = GridSearchCV(SVD, param_grid, measures=[\"rmse\", \"mae\"], cv=3)\n",
    "\n",
    "# gs.fit(data)\n",
    "\n",
    "# print(gs.best_score[\"rmse\"])\n",
    "# print(gs.best_params[\"rmse\"])"
   ]
  },
  {
   "cell_type": "code",
   "execution_count": null,
   "metadata": {},
   "outputs": [],
   "source": [
    "# # Appplying Best Parameters to predict the score of the same movie and user predicted by kNN\n",
    "# algo = gs.best_estimator[\"rmse\"]\n",
    "# algo.fit(data.build_full_trainset())\n",
    "\n",
    "# prediction = algo.predict(305344, 9235)\n",
    "# print(prediction.est)"
   ]
  }
 ],
 "metadata": {
  "kernelspec": {
   "display_name": "ds",
   "language": "python",
   "name": "python3"
  },
  "language_info": {
   "codemirror_mode": {
    "name": "ipython",
    "version": 3
   },
   "file_extension": ".py",
   "mimetype": "text/x-python",
   "name": "python",
   "nbconvert_exporter": "python",
   "pygments_lexer": "ipython3",
   "version": "3.10.9"
  },
  "orig_nbformat": 4,
  "vscode": {
   "interpreter": {
    "hash": "a25df13df3a09e29cbdae6ff7053faf9527e3ea6ab1de3b1c9c24b3626196969"
   }
  }
 },
 "nbformat": 4,
 "nbformat_minor": 2
}
